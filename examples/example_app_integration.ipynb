{
 "cells": [
  {
   "cell_type": "code",
   "execution_count": 1,
   "metadata": {},
   "outputs": [],
   "source": [
    "import sys\n",
    "\n",
    "# nvdlib has be installed (I suggest to use venv for that)\n",
    "from nvdlib.nvd import NVD\n",
    "\n",
    "# add the experimental project to the path\n",
    "sys.path.append(\"../src\")\n",
    "from toolkit import pipelines, utils\n",
    "from toolkit.pipelines import FEATURE_HOOKS\n",
    "from toolkit.transformers.classifiers import NBClassifier"
   ]
  },
  {
   "cell_type": "markdown",
   "metadata": {},
   "source": [
    "The convenient method to integrate the classifier is to use the pre-trained model and the `extract_features` method defined in `pipelines` module.\n",
    "\n",
    "Lets train the classifier (will be provided in the [examples](/examples) folder). In your application, you can use your custom classifier or the classifier trained by us."
   ]
  },
  {
   "cell_type": "markdown",
   "metadata": {},
   "source": [
    "### Training custom model"
   ]
  },
  {
   "cell_type": "markdown",
   "metadata": {},
   "source": [
    "*The best way is to use nvd-toolkit CLI, but there are many ways training could be implemented, so find the one that suits you.*\n",
    "\n",
    "__Note:__ This is **going to take a while**, so go grab a tea or coffee meanwhile."
   ]
  },
  {
   "cell_type": "code",
   "execution_count": 2,
   "metadata": {},
   "outputs": [],
   "source": [
    "from sklearn.model_selection import train_test_split\n",
    "\n",
    "feed = NVD.from_feeds(feed_names=[2016, 2017, 2018])\n",
    "feed.update()\n",
    "data = list(feed.cves())\n",
    "\n",
    "cve_dict = {cve.cve_id: cve for cve in data}\n",
    "\n",
    "# set up default argument for vendor-product feature hook\n",
    "FEATURE_HOOKS.vendor_product_match_hook.default_kwargs = {\n",
    "    'cve_dict': cve_dict\n",
    "}\n",
    "\n",
    "X_train, _ = pipelines.extract_labeled_features(\n",
    "    data=data,\n",
    "    nvd_attributes=['cve_id', 'description'],\n",
    "    nltk_feed_attributes=['description'],\n",
    "    feature_hooks=FEATURE_HOOKS,\n",
    "    labeling_func=utils.find_\n",
    ")\n",
    "\n",
    "classifier = NBClassifier().fit(X_train)"
   ]
  },
  {
   "cell_type": "code",
   "execution_count": 3,
   "metadata": {},
   "outputs": [
    {
     "data": {
      "text/plain": [
       "'export/classifier.1531218732.518835.checkpoint'"
      ]
     },
     "execution_count": 3,
     "metadata": {},
     "output_type": "execute_result"
    }
   ],
   "source": [
    "classifier.export(export_dir='export/')"
   ]
  },
  {
   "cell_type": "markdown",
   "metadata": {},
   "source": [
    "### Prediction filters"
   ]
  },
  {
   "cell_type": "code",
   "execution_count": 4,
   "metadata": {},
   "outputs": [],
   "source": [
    "# Create prediciton filters\n",
    "from nltk.corpus import stopwords\n",
    "\n",
    "STOPWORDS = set(stopwords.words('english'))\n",
    "def stopwords_filter(t):\n",
    "    word, _ = t[0]\n",
    "    return word.lower() not in STOPWORDS\n",
    "\n",
    "def version_filter(t):\n",
    "    word, _ = t[0]\n",
    "    return word != '<VERSION>'\n",
    "\n",
    "def num_tag_filter(t):\n",
    "    _, tag = t[0]\n",
    "    return tag != 'NUM'\n",
    "\n",
    "prediction_filters = [stopwords_filter, version_filter, num_tag_filter]"
   ]
  },
  {
   "cell_type": "markdown",
   "metadata": {},
   "source": [
    "### Use cases\n",
    "\n",
    "#### 1) predicting for a single description string"
   ]
  },
  {
   "cell_type": "code",
   "execution_count": 5,
   "metadata": {},
   "outputs": [],
   "source": [
    "# restored pretrained classifier from the checkpoint\n",
    "clf = NBClassifier.restore(checkpoint='export/')\n",
    "\n",
    "# sanity check\n",
    "assert isinstance(clf, NBClassifier)"
   ]
  },
  {
   "cell_type": "code",
   "execution_count": 6,
   "metadata": {},
   "outputs": [],
   "source": [
    "# now lets suppose you only have this CVE description\n",
    "description = (\n",
    "    \"Any authenticated user (valid client certificate but without ACL permissions) \"\n",
    "    \"could upload a template which contained malicious code and caused a denial \"\n",
    "    \"of service via Java deserialization attack. The fix to properly handle Java \"\n",
    "    \"deserialization was applied on the Apache NiFi 1.4.0 release. \"\n",
    "    \"Users running a prior 1.x release should upgrade to the appropriate release.\"\n",
    ")"
   ]
  },
  {
   "cell_type": "code",
   "execution_count": 7,
   "metadata": {},
   "outputs": [],
   "source": [
    "from toolkit.transformers import feature_hooks\n",
    "\n",
    "hooks = [\n",
    "    feature_hooks.has_uppercase_hook,\n",
    "    feature_hooks.is_alnum_hook,\n",
    "    feature_hooks.ver_pos_hook,\n",
    "    feature_hooks.word_len_hook\n",
    "]"
   ]
  },
  {
   "cell_type": "code",
   "execution_count": 8,
   "metadata": {},
   "outputs": [],
   "source": [
    "# there is a whole prediction pipeline pre-build for you\n",
    "pipeline = pipelines.get_prediction_pipeline(\n",
    "    classifier=clf,\n",
    "    feature_hooks=hooks\n",
    ")"
   ]
  },
  {
   "cell_type": "code",
   "execution_count": 9,
   "metadata": {},
   "outputs": [
    {
     "data": {
      "text/plain": [
       "array([[[('NiFi', 'NOUN'), 0.8583644939473858],\n",
       "        [('Users', 'NOUN'), 0.7601474942350667],\n",
       "        [('Apache', 'NOUN'), 0.6644349678248976]]], dtype=object)"
      ]
     },
     "execution_count": 9,
     "metadata": {},
     "output_type": "execute_result"
    }
   ],
   "source": [
    "# only `sample` argument needs to be provided, we want to predict the project names,\n",
    "# that is where the prediction == True\n",
    "pipeline.fit_predict([description], classifier__sample=True, classifier__filter_hooks=prediction_filters)"
   ]
  },
  {
   "cell_type": "markdown",
   "metadata": {},
   "source": [
    "#### 2) multiple description strings"
   ]
  },
  {
   "cell_type": "code",
   "execution_count": 10,
   "metadata": {},
   "outputs": [
    {
     "data": {
      "text/plain": [
       "array([[[('NiFi', 'NOUN'), 0.8583644939473858]],\n",
       "\n",
       "       [[('NiFi', 'NOUN'), 0.8583644939473858]],\n",
       "\n",
       "       [[('NiFi', 'NOUN'), 0.8583644939473858]],\n",
       "\n",
       "       [[('NiFi', 'NOUN'), 0.8583644939473858]],\n",
       "\n",
       "       [[('NiFi', 'NOUN'), 0.8583644939473858]]], dtype=object)"
      ]
     },
     "execution_count": 10,
     "metadata": {},
     "output_type": "execute_result"
    }
   ],
   "source": [
    "# of course there can be as many descriptions in the list provided, as the processor can handle\n",
    "description_lst = [description] * 5\n",
    "\n",
    "# lets limit the number of candidates here as well\n",
    "pipeline.fit_predict(description_lst, classifier__sample=True, classifier__n=1, classifier__filter_hooks=prediction_filters)"
   ]
  },
  {
   "cell_type": "markdown",
   "metadata": {},
   "source": [
    "#### 3) Prediction from the CVE (recommended)\n",
    "\n",
    "This is the recommended and full-stacked way."
   ]
  },
  {
   "cell_type": "code",
   "execution_count": 11,
   "metadata": {},
   "outputs": [],
   "source": [
    "# lets get the first cve with a description as a sample for prediction\n",
    "for cve in data:\n",
    "    if cve.description:\n",
    "        break"
   ]
  },
  {
   "cell_type": "code",
   "execution_count": 12,
   "metadata": {},
   "outputs": [
    {
     "data": {
      "text/plain": [
       "'** REJECT **  DO NOT USE THIS CANDIDATE NUMBER. ConsultIDs: none. Reason: The CNA or individual who requested this candidate did not associate it with any vulnerability during 2016. Notes: none.'"
      ]
     },
     "execution_count": 12,
     "metadata": {},
     "output_type": "execute_result"
    }
   ],
   "source": [
    "cve.description"
   ]
  },
  {
   "cell_type": "markdown",
   "metadata": {},
   "source": [
    "Using the approach same as above"
   ]
  },
  {
   "cell_type": "code",
   "execution_count": 13,
   "metadata": {},
   "outputs": [],
   "source": [
    "# extract features\n",
    "featureset = pipelines.extract_features(\n",
    "    data=[cve],\n",
    "    attributes=['description'],\n",
    "    feature_hooks=hooks\n",
    ")"
   ]
  },
  {
   "cell_type": "code",
   "execution_count": 14,
   "metadata": {},
   "outputs": [
    {
     "data": {
      "text/plain": [
       "array([[[('ConsultIDs', 'NOUN'), 0.9939901012710451],\n",
       "        [('NUMBER.', 'NOUN'), 0.9858351463700652],\n",
       "        [('vulnerability', 'NOUN'), 0.9661078790937466],\n",
       "        [('CANDIDATE', 'NOUN'), 0.9494134029052443],\n",
       "        [('none.', 'ADJ'), 0.9491886675619403]]], dtype=object)"
      ]
     },
     "execution_count": 14,
     "metadata": {},
     "output_type": "execute_result"
    }
   ],
   "source": [
    "# predict, again specify sample parameter\n",
    "# (precision is not important ATM, the pre-trained classifier is very simple)\n",
    "clf.fit_predict(featureset, sample=True, n=5, filter_hooks=prediction_filters)"
   ]
  }
 ],
 "metadata": {
  "kernelspec": {
   "display_name": "env",
   "language": "python",
   "name": "env"
  },
  "language_info": {
   "codemirror_mode": {
    "name": "ipython",
    "version": 3
   },
   "file_extension": ".py",
   "mimetype": "text/x-python",
   "name": "python",
   "nbconvert_exporter": "python",
   "pygments_lexer": "ipython3",
   "version": "3.6.5"
  }
 },
 "nbformat": 4,
 "nbformat_minor": 2
}
