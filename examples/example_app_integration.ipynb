{
 "cells": [
  {
   "cell_type": "code",
   "execution_count": 1,
   "metadata": {},
   "outputs": [],
   "source": [
    "import sys\n",
    "\n",
    "# nvdlib has be installed (I suggest to use venv for that)\n",
    "from nvdlib.nvd import NVD\n",
    "\n",
    "# add the experimental project to the path\n",
    "sys.path.append(\"../src\")\n",
    "from toolkit import pipelines\n",
    "from toolkit.transformers.classifiers import NBClassifier"
   ]
  },
  {
   "cell_type": "markdown",
   "metadata": {},
   "source": [
    "The convenient method to integrate the classifier is to use the pre-trained model and the `extract_features` method defined in `pipelines` module.\n",
    "\n",
    "Lets use the simple pre-trained classifier provided in the [examples](/examples) folder. In your application, you can use your custom classifier or a released classifier trained by us."
   ]
  },
  {
   "cell_type": "markdown",
   "metadata": {},
   "source": [
    "### Use cases\n",
    "\n",
    "#### 1) predicting for a single description string"
   ]
  },
  {
   "cell_type": "code",
   "execution_count": 2,
   "metadata": {},
   "outputs": [],
   "source": [
    "# restored pretrained classifier from the checkpoint\n",
    "clf = NBClassifier.restore(checkpoint='export/')\n",
    "\n",
    "# sanity check\n",
    "assert isinstance(clf, NBClassifier)"
   ]
  },
  {
   "cell_type": "code",
   "execution_count": 3,
   "metadata": {},
   "outputs": [],
   "source": [
    "# now lets suppose you only have this CVE description\n",
    "description = (\n",
    "    \"Any authenticated user (valid client certificate but without ACL permissions) \"\n",
    "    \"could upload a template which contained malicious code and caused a denial \"\n",
    "    \"of service via Java deserialization attack. The fix to properly handle Java \"\n",
    "    \"deserialization was applied on the Apache NiFi 1.4.0 release. \"\n",
    "    \"Users running a prior 1.x release should upgrade to the appropriate release.\"\n",
    ")"
   ]
  },
  {
   "cell_type": "code",
   "execution_count": 4,
   "metadata": {},
   "outputs": [],
   "source": [
    "# there is a whole prediction pipeline pre-build for you\n",
    "pipeline = pipelines.get_prediction_pipeline(\n",
    "    classifier=clf,\n",
    "    feature_hooks=pipelines.FEATURE_HOOKS\n",
    ")"
   ]
  },
  {
   "cell_type": "code",
   "execution_count": 5,
   "metadata": {},
   "outputs": [
    {
     "data": {
      "text/plain": [
       "array([[[('NiFi', 'NOUN'), 0.9942779558315172],\n",
       "        [('a', 'DET'), 0.9791180957409575],\n",
       "        [('<VERSION>', 'NUM'), 0.9745165900735117]]], dtype=object)"
      ]
     },
     "execution_count": 5,
     "metadata": {},
     "output_type": "execute_result"
    }
   ],
   "source": [
    "# only `sample` argument needs to be provided, we want to predict the project names,\n",
    "# that is where the prediction == True\n",
    "pipeline.fit_predict([description], classifier__sample=True)"
   ]
  },
  {
   "cell_type": "markdown",
   "metadata": {},
   "source": [
    "#### 2) multiple description strings"
   ]
  },
  {
   "cell_type": "code",
   "execution_count": 6,
   "metadata": {},
   "outputs": [
    {
     "data": {
      "text/plain": [
       "array([[[('NiFi', 'NOUN'), 0.9942779558315172]],\n",
       "\n",
       "       [[('NiFi', 'NOUN'), 0.9942779558315172]],\n",
       "\n",
       "       [[('NiFi', 'NOUN'), 0.9942779558315172]],\n",
       "\n",
       "       [[('NiFi', 'NOUN'), 0.9942779558315172]],\n",
       "\n",
       "       [[('NiFi', 'NOUN'), 0.9942779558315172]]], dtype=object)"
      ]
     },
     "execution_count": 6,
     "metadata": {},
     "output_type": "execute_result"
    }
   ],
   "source": [
    "# of course there can be as many descriptions in the list provided, as the processor can handle\n",
    "description_lst = [description] * 5\n",
    "\n",
    "# lets limit the number of candidates here as well\n",
    "pipeline.fit_predict(description_lst, classifier__sample=True, classifier__n=1)"
   ]
  },
  {
   "cell_type": "markdown",
   "metadata": {},
   "source": [
    "#### 3) Prediction from the CVE\n",
    "\n",
    "Too lazy to parse the CVE and extract the description yourself?\n",
    "No prob, there is a build-in function for that as well..."
   ]
  },
  {
   "cell_type": "code",
   "execution_count": 7,
   "metadata": {},
   "outputs": [],
   "source": [
    "# lets get a sample CVE from the database\n",
    "feed = NVD.from_recent()\n",
    "cve_iter = feed.cves()\n",
    "\n",
    "# lets get the first cve with a description\n",
    "cve = next(cve_iter)\n",
    "while not cve.description:\n",
    "    cve = next(cve_iter)"
   ]
  },
  {
   "cell_type": "code",
   "execution_count": 8,
   "metadata": {},
   "outputs": [
    {
     "data": {
      "text/plain": [
       "\"Absolute Computrace Agent V80.845 and V80.866 does not have a digital signature for the configuration block, which allows attackers to set up communication with a web site other than the intended search.namequery.com site by modifying data within a disk's inter-partition space. This allows a privileged local user to execute arbitrary code even after that user loses access and all disk partitions are reformatted.\""
      ]
     },
     "execution_count": 8,
     "metadata": {},
     "output_type": "execute_result"
    }
   ],
   "source": [
    "cve.description"
   ]
  },
  {
   "cell_type": "code",
   "execution_count": 9,
   "metadata": {},
   "outputs": [],
   "source": [
    "# extract features\n",
    "featureset = pipelines.extract_features(\n",
    "    data=[cve],\n",
    "    attributes=['description'],\n",
    "    feature_hooks=pipelines.FEATURE_HOOKS\n",
    ")"
   ]
  },
  {
   "cell_type": "code",
   "execution_count": 10,
   "metadata": {},
   "outputs": [
    {
     "data": {
      "text/plain": [
       "array([[[('access', 'NOUN'), 0.9992107250019394],\n",
       "        [('are', 'VERB'), 0.9898356942143918],\n",
       "        [('search.namequery.com', 'NOUN'), 0.9823971884715447],\n",
       "        [('Computrace', 'NOUN'), 0.9745165900735117],\n",
       "        [(\"'s\", 'PRT'), 0.9745165900735117]]], dtype=object)"
      ]
     },
     "execution_count": 10,
     "metadata": {},
     "output_type": "execute_result"
    }
   ],
   "source": [
    "# predict, again specify sample parameter\n",
    "# (precision is not important ATM, the pre-trained classifier is very simple)\n",
    "clf.fit_predict(featureset, sample=True, n=5)"
   ]
  }
 ],
 "metadata": {
  "kernelspec": {
   "display_name": "env",
   "language": "python",
   "name": "env"
  },
  "language_info": {
   "codemirror_mode": {
    "name": "ipython",
    "version": 3
   },
   "file_extension": ".py",
   "mimetype": "text/x-python",
   "name": "python",
   "nbconvert_exporter": "python",
   "pygments_lexer": "ipython3",
   "version": "3.6.5"
  }
 },
 "nbformat": 4,
 "nbformat_minor": 2
}
