{
 "cells": [
  {
   "cell_type": "code",
   "execution_count": 1,
   "metadata": {},
   "outputs": [],
   "source": [
    "import re\n",
    "import sys\n",
    "\n",
    "import nltk\n",
    "import numpy as np\n",
    "\n",
    "from sklearn.pipeline import Pipeline\n",
    "\n",
    "# nvdlib has be installed (I suggest to use venv for that)\n",
    "from nvdlib.nvd import NVD\n",
    "\n",
    "# add the experimental project to the path\n",
    "sys.path.append(\"../src\")\n",
    "import toolkit  # import the toolkit"
   ]
  },
  {
   "cell_type": "markdown",
   "metadata": {},
   "source": [
    "### Get the NVD Feed"
   ]
  },
  {
   "cell_type": "code",
   "execution_count": 2,
   "metadata": {},
   "outputs": [],
   "source": [
    "# get the nvd feed\n",
    "feed = NVD.from_feeds(feed_names=[2017])\n",
    "# update\n",
    "# feed.update()\n",
    "\n",
    "# generator\n",
    "cves = feed.cves()\n",
    "\n",
    "# assign the cves to the DATA variable and unpack the iterator (iterator does not\n",
    "# matter to the pipeline, but for the purpose of reusing the DATA in the notebook,\n",
    "# it is usefull to unpack it)\n",
    "DATA = list(cves)"
   ]
  },
  {
   "cell_type": "markdown",
   "metadata": {},
   "source": [
    "## Training Example\n",
    "\n",
    "**NOTE:**\n",
    "Part of the pipeline consists of preprocessors, these were presented in [example_preprocessing_pipeline.ipynb](https://github.com/CermakM/fabric8-analytics-POCs/blob/codebase/cves/toolkit/examples/example_preprocessing_pipeline.ipynb)"
   ]
  },
  {
   "cell_type": "code",
   "execution_count": 3,
   "metadata": {},
   "outputs": [],
   "source": [
    "# we can define custom features to be used in feature extraction process\n",
    "from toolkit.transformers import feature_hooks\n",
    "\n",
    "FEATURE_HOOKS = None  # will be defined later"
   ]
  },
  {
   "cell_type": "code",
   "execution_count": 4,
   "metadata": {},
   "outputs": [],
   "source": [
    "toolkit.transformers.Hook.clear_current_instances()"
   ]
  },
  {
   "cell_type": "markdown",
   "metadata": {},
   "source": [
    "If there is a need to split the training process into preprocessing and training, you can easily define two separate pipelines for that."
   ]
  },
  {
   "cell_type": "code",
   "execution_count": 5,
   "metadata": {},
   "outputs": [],
   "source": [
    "preprocessing_pipeline = Pipeline(\n",
    "    steps=[\n",
    "        (\n",
    "            'nvd_feed_preprocessor',\n",
    "            toolkit.preprocessing.NVDFeedPreprocessor(\n",
    "                attributes=['cve_id', 'description']\n",
    "            )\n",
    "        ),\n",
    "        (\n",
    "            'label_preprocessor', \n",
    "            toolkit.preprocessing.LabelPreprocessor(\n",
    "                feed_attributes=['project', 'description'],\n",
    "                output_attributes=['cve_id', 'description'],\n",
    "                hook=toolkit.transformers.Hook(key='label_hook', func=toolkit.utils.find_)\n",
    "            )\n",
    "        ),\n",
    "        (\n",
    "            'nltk_preprocessor',\n",
    "            toolkit.preprocessing.NLTKPreprocessor()\n",
    "            \n",
    "        ),\n",
    "    ]\n",
    ")"
   ]
  },
  {
   "cell_type": "code",
   "execution_count": 6,
   "metadata": {
    "scrolled": true
   },
   "outputs": [],
   "source": [
    "steps, preps = list(zip(*preprocessing_pipeline.steps))\n",
    "\n",
    "fit_params = {\n",
    "    \"%s__feed_attributes\" % steps[2]: ['description'],\n",
    "    \"%s__output_attributes\" % steps[2]: ['cve_id', 'label']\n",
    "}\n",
    "processed_data = preprocessing_pipeline.fit_transform(X=DATA, **fit_params)"
   ]
  },
  {
   "cell_type": "code",
   "execution_count": 7,
   "metadata": {},
   "outputs": [
    {
     "data": {
      "text/plain": [
       "([('The', 'DET'),\n",
       "  ('hidden-service', 'ADJ'),\n",
       "  ('feature', 'NOUN'),\n",
       "  ('in', 'ADP'),\n",
       "  ('Tor', 'NOUN'),\n",
       "  ('before', 'ADP'),\n",
       "  ('<VERSION>', 'NUM'),\n",
       "  ('allows', 'VERB'),\n",
       "  ('a', 'DET'),\n",
       "  ('denial', 'NOUN'),\n",
       "  ('of', 'ADP'),\n",
       "  ('service', 'NOUN'),\n",
       "  ('assertion', 'ADJ'),\n",
       "  ('failure', 'NOUN'),\n",
       "  ('and', 'CONJ'),\n",
       "  ('daemon', 'ADJ'),\n",
       "  ('exit', 'NOUN'),\n",
       "  ('in', 'ADP'),\n",
       "  ('the', 'DET'),\n",
       "  ('relay_send_end_cell_from_edge_', 'NOUN'),\n",
       "  ('function', 'NOUN'),\n",
       "  ('via', 'ADP'),\n",
       "  ('a', 'DET'),\n",
       "  ('malformed', 'ADJ'),\n",
       "  ('BEGIN', 'NOUN'),\n",
       "  ('cell', 'NOUN')],\n",
       " 'CVE-2017-0375',\n",
       " 'Tor')"
      ]
     },
     "execution_count": 7,
     "metadata": {},
     "output_type": "execute_result"
    }
   ],
   "source": [
    "# resulting data consists of list of Series object -- objects\n",
    "# containing features output attributes\n",
    "series = processed_data[0]\n",
    "series.features, series.cve_id, series.label"
   ]
  },
  {
   "cell_type": "code",
   "execution_count": 8,
   "metadata": {},
   "outputs": [],
   "source": [
    "train_pipeline = Pipeline(\n",
    "    steps=[\n",
    "        (\n",
    "            'feature_extractor',\n",
    "            toolkit.transformers.FeatureExtractor(\n",
    "                feature_hooks=FEATURE_HOOKS,\n",
    "                share_hooks=True\n",
    "            )\n",
    "        ),\n",
    "        (\n",
    "            'classifier',\n",
    "            toolkit.transformers.NBClassifier()\n",
    "        )\n",
    "    ]\n",
    ")"
   ]
  },
  {
   "cell_type": "code",
   "execution_count": 9,
   "metadata": {},
   "outputs": [],
   "source": [
    "# classifier = train_pipeline.fit_transform(X=data, y=labels)\n",
    "classifier = train_pipeline.fit_transform(processed_data)"
   ]
  },
  {
   "cell_type": "markdown",
   "metadata": {},
   "source": [
    "We can even build the whole training pipeline at once."
   ]
  },
  {
   "cell_type": "code",
   "execution_count": 10,
   "metadata": {},
   "outputs": [],
   "source": [
    "training_pipeline = Pipeline(\n",
    "    steps=[\n",
    "        (\n",
    "            'nvd_feed_preprocessor',\n",
    "            toolkit.preprocessing.NVDFeedPreprocessor(\n",
    "                attributes=['cve_id', 'description']\n",
    "            )\n",
    "        ),\n",
    "        (\n",
    "            'label_preprocessor', \n",
    "            toolkit.preprocessing.LabelPreprocessor(\n",
    "                feed_attributes=['project', 'description'],\n",
    "                output_attributes=['cve_id', 'description'],\n",
    "                hook=toolkit.transformers.Hook(key='label_hook',\n",
    "                                               reuse=True,\n",
    "                                               func=toolkit.utils.find_)\n",
    "            )\n",
    "        ),\n",
    "        (\n",
    "            'nltk_preprocessor',\n",
    "            toolkit.preprocessing.NLTKPreprocessor()\n",
    "        ),\n",
    "        (\n",
    "            'feature_extractor',\n",
    "            toolkit.transformers.FeatureExtractor(\n",
    "                feature_hooks=FEATURE_HOOKS,\n",
    "                share_hooks=True\n",
    "            )\n",
    "        ),\n",
    "        (\n",
    "            'classifier',\n",
    "            toolkit.transformers.NBClassifier()\n",
    "        )\n",
    "    ]\n",
    ")"
   ]
  },
  {
   "cell_type": "code",
   "execution_count": 11,
   "metadata": {
    "scrolled": true
   },
   "outputs": [],
   "source": [
    "steps, preps = list(zip(*preprocessing_pipeline.steps))\n",
    "\n",
    "fit_params = {\n",
    "    \"%s__feed_attributes\" % steps[2]: ['description'],\n",
    "    \"%s__output_attributes\" % steps[2]: ['cve_id', 'label']\n",
    "}\n",
    "\n",
    "# feed it initial raw unprocessed data and let the toolkit handle the rest\n",
    "classifier = training_pipeline.fit_transform(X=DATA, **fit_params)"
   ]
  },
  {
   "cell_type": "markdown",
   "metadata": {},
   "source": [
    "## Evaluation example"
   ]
  },
  {
   "cell_type": "code",
   "execution_count": 12,
   "metadata": {},
   "outputs": [],
   "source": [
    "from sklearn.model_selection import train_test_split, KFold"
   ]
  },
  {
   "cell_type": "code",
   "execution_count": 13,
   "metadata": {},
   "outputs": [],
   "source": [
    "toolkit.transformers.Hook.clear_current_instances()"
   ]
  },
  {
   "cell_type": "markdown",
   "metadata": {},
   "source": [
    "Here we'll use only FeatureExtractor along with our processed data.\n",
    "\n",
    "*NOTE:* The feature extractor executes hooks which extract features from the data. Each of these hooks is fed either a feed dict, if the input data consists of `namedtuple`s, or the **whole** `x` (element of `X`), which means, that if `x` is a list containing more than just features to be extracted, they will be fed to the hooks as well!\n",
    "\n",
    "TLDR; The default hooks will search for `features` attribute in `x`, if `x` is a `namedtuple` otherwise they'll take the whole `x`."
   ]
  },
  {
   "cell_type": "code",
   "execution_count": 14,
   "metadata": {},
   "outputs": [],
   "source": [
    "# instantiate feature extractor\n",
    "feature_extractor = toolkit.transformers.FeatureExtractor(\n",
    "    feature_hooks=FEATURE_HOOKS,\n",
    "    share_hooks=True\n",
    ")"
   ]
  },
  {
   "cell_type": "markdown",
   "metadata": {},
   "source": [
    "##### To demonstrate the above mentioned: This will throw and error"
   ]
  },
  {
   "cell_type": "code",
   "execution_count": 15,
   "metadata": {},
   "outputs": [
    {
     "data": {
      "text/plain": [
       "array([[list([('The', 'DET'), ('hidden-service', 'ADJ'), ('feature', 'NOUN'), ('in', 'ADP'), ('Tor', 'NOUN'), ('before', 'ADP'), ('<VERSION>', 'NUM'), ('allows', 'VERB'), ('a', 'DET'), ('denial', 'NOUN'), ('of', 'ADP'), ('service', 'NOUN'), ('assertion', 'ADJ'), ('failure', 'NOUN'), ('and', 'CONJ'), ('daemon', 'ADJ'), ('exit', 'NOUN'), ('in', 'ADP'), ('the', 'DET'), ('relay_send_end_cell_from_edge_', 'NOUN'), ('function', 'NOUN'), ('via', 'ADP'), ('a', 'DET'), ('malformed', 'ADJ'), ('BEGIN', 'NOUN'), ('cell', 'NOUN')]),\n",
       "        'CVE-2017-0375']], dtype=object)"
      ]
     },
     "execution_count": 15,
     "metadata": {},
     "output_type": "execute_result"
    }
   ],
   "source": [
    "# split the processed data into data and labels (target values)\n",
    "processed_data_array = np.array(processed_data)\n",
    "\n",
    "data, labels = processed_data_array[:, :2], processed_data_array[:, 2]\n",
    "data[:1]"
   ]
  },
  {
   "cell_type": "code",
   "execution_count": 17,
   "metadata": {},
   "outputs": [
    {
     "name": "stdout",
     "output_type": "stream",
     "text": [
      "Exception raised\n"
     ]
    }
   ],
   "source": [
    "# create the featureset from the evaluation pipeline\n",
    "# the featureset is an ndarray of feature dicts and labels\n",
    "try:\n",
    "    featuresets = feature_extractor.fit_transform(data, labels)\n",
    "except Exception:\n",
    "    print(\"Exception raised!\")"
   ]
  },
  {
   "cell_type": "markdown",
   "metadata": {},
   "source": [
    "##### To demonstrate the above mentioned: This will work"
   ]
  },
  {
   "cell_type": "code",
   "execution_count": 18,
   "metadata": {},
   "outputs": [
    {
     "data": {
      "text/plain": [
       "array([list([('The', 'DET'), ('hidden-service', 'ADJ'), ('feature', 'NOUN'), ('in', 'ADP'), ('Tor', 'NOUN'), ('before', 'ADP'), ('<VERSION>', 'NUM'), ('allows', 'VERB'), ('a', 'DET'), ('denial', 'NOUN'), ('of', 'ADP'), ('service', 'NOUN'), ('assertion', 'ADJ'), ('failure', 'NOUN'), ('and', 'CONJ'), ('daemon', 'ADJ'), ('exit', 'NOUN'), ('in', 'ADP'), ('the', 'DET'), ('relay_send_end_cell_from_edge_', 'NOUN'), ('function', 'NOUN'), ('via', 'ADP'), ('a', 'DET'), ('malformed', 'ADJ'), ('BEGIN', 'NOUN'), ('cell', 'NOUN')])],\n",
       "      dtype=object)"
      ]
     },
     "execution_count": 18,
     "metadata": {},
     "output_type": "execute_result"
    }
   ],
   "source": [
    "# split the processed data into data and labels (target values)\n",
    "processed_data_array = np.array(processed_data)\n",
    "\n",
    "data, labels = processed_data_array[:, 0], processed_data_array[:, -1]\n",
    "data[:1]"
   ]
  },
  {
   "cell_type": "code",
   "execution_count": 19,
   "metadata": {},
   "outputs": [],
   "source": [
    "# create the featureset from the evaluation pipeline\n",
    "# the featureset is an ndarray of feature dicts and labels\n",
    "featuresets = feature_extractor.fit_transform(data, labels)"
   ]
  },
  {
   "cell_type": "markdown",
   "metadata": {},
   "source": [
    "##### To demonstrate the above mentioned:  And so will this"
   ]
  },
  {
   "cell_type": "code",
   "execution_count": 20,
   "metadata": {},
   "outputs": [
    {
     "data": {
      "text/plain": [
       "[Series(features=[('The', 'DET'), ('hidden-service', 'ADJ'), ('feature', 'NOUN'), ('in', 'ADP'), ('Tor', 'NOUN'), ('before', 'ADP'), ('<VERSION>', 'NUM'), ('allows', 'VERB'), ('a', 'DET'), ('denial', 'NOUN'), ('of', 'ADP'), ('service', 'NOUN'), ('assertion', 'ADJ'), ('failure', 'NOUN'), ('and', 'CONJ'), ('daemon', 'ADJ'), ('exit', 'NOUN'), ('in', 'ADP'), ('the', 'DET'), ('relay_send_end_cell_from_edge_', 'NOUN'), ('function', 'NOUN'), ('via', 'ADP'), ('a', 'DET'), ('malformed', 'ADJ'), ('BEGIN', 'NOUN'), ('cell', 'NOUN')], cve_id='CVE-2017-0375', label='Tor')]"
      ]
     },
     "execution_count": 20,
     "metadata": {},
     "output_type": "execute_result"
    }
   ],
   "source": [
    "processed_data[:1]"
   ]
  },
  {
   "cell_type": "code",
   "execution_count": 21,
   "metadata": {},
   "outputs": [],
   "source": [
    "# create the featureset from the evaluation pipeline\n",
    "# the featureset is an ndarray of feature dicts and labels\n",
    "featuresets = feature_extractor.fit_transform(processed_data)"
   ]
  },
  {
   "cell_type": "markdown",
   "metadata": {},
   "source": [
    "---"
   ]
  },
  {
   "cell_type": "code",
   "execution_count": 22,
   "metadata": {},
   "outputs": [
    {
     "data": {
      "text/plain": [
       "((295,), (1181,))"
      ]
     },
     "execution_count": 22,
     "metadata": {},
     "output_type": "execute_result"
    }
   ],
   "source": [
    "# split the data into train / test set\n",
    "X_train, X_test, y_train, y_test = train_test_split(\n",
    "    featuresets, labels,\n",
    "    test_size = 0.8,  # split in the ratio 1:5 to show how well the model generalizes\n",
    "    random_state=0\n",
    ")\n",
    "\n",
    "X_train.shape, X_test.shape"
   ]
  },
  {
   "cell_type": "code",
   "execution_count": 23,
   "metadata": {},
   "outputs": [
    {
     "data": {
      "text/plain": [
       "<toolkit.transformers.classifiers.NBClassifier at 0x7fa245a1c9e8>"
      ]
     },
     "execution_count": 23,
     "metadata": {},
     "output_type": "execute_result"
    }
   ],
   "source": [
    "# retrain on the training data only\n",
    "classifier.fit(X_train)"
   ]
  },
  {
   "cell_type": "code",
   "execution_count": 24,
   "metadata": {},
   "outputs": [
    {
     "data": {
      "text/plain": [
       "array([[[('ImageMagick', 'NOUN'), 0.9999998881196567],\n",
       "        [('function', 'NOUN'), 0.43075369153388704],\n",
       "        [('in', 'ADP'), 0.24443893345736092]],\n",
       "\n",
       "       [[('WordPress', 'NOUN'), 0.993581685381146],\n",
       "        [('in', 'ADP'), 0.9452601292179056],\n",
       "        [('access', 'NOUN'), 0.7247533941958504]],\n",
       "\n",
       "       [[('tcpdump', 'NOUN'), 0.9990780257509061],\n",
       "        [('The', 'DET'), 0.4904642069263589],\n",
       "        [('parser', 'NOUN'), 0.05638998449974293]],\n",
       "\n",
       "       [[('ViewVC', 'NOUN'), 0.993581685381146],\n",
       "        [('before', 'ADP'), 0.7619646578409935],\n",
       "        [('in', 'ADP'), 0.7292252331224784]],\n",
       "\n",
       "       [[('in', 'ADP'), 0.9991022167850431],\n",
       "        [('UPX', 'NOUN'), 0.9563063493578416],\n",
       "        [('in', 'ADP'), 0.6281798034759883]]], dtype=object)"
      ]
     },
     "execution_count": 24,
     "metadata": {},
     "output_type": "execute_result"
    }
   ],
   "source": [
    "classifier.fit_predict(X_test[:5], sample=True)"
   ]
  },
  {
   "cell_type": "code",
   "execution_count": 25,
   "metadata": {},
   "outputs": [
    {
     "name": "stdout",
     "output_type": "stream",
     "text": [
      "Evaluation accuracy: 85.605 %\n"
     ]
    }
   ],
   "source": [
    "# evaluate the classifier on the test set\n",
    "accuracy = classifier.evaluate(X_test, y_test, sample=True, n=3)\n",
    "\n",
    "print(\"Evaluation accuracy: {:5.3f} %\".format(accuracy * 100))"
   ]
  },
  {
   "cell_type": "code",
   "execution_count": 26,
   "metadata": {},
   "outputs": [],
   "source": [
    "# compute cross validation accuracy\n",
    "score = toolkit.transformers.cross_validate(classifier,\n",
    "                                             X_train,\n",
    "                                             y_train,\n",
    "                                             shuffle=True,\n",
    "                                             n=3,\n",
    "                                             sample=True)"
   ]
  },
  {
   "cell_type": "code",
   "execution_count": 27,
   "metadata": {},
   "outputs": [
    {
     "data": {
      "text/plain": [
       "Score(values=array([0.8       , 0.96666667, 0.86666667, 0.86666667, 0.83333333,\n",
       "       0.79310345, 0.86206897, 0.93103448, 0.93103448, 0.93103448]), mean=0.87816091954023, std=0.05665395861328391)"
      ]
     },
     "execution_count": 27,
     "metadata": {},
     "output_type": "execute_result"
    }
   ],
   "source": [
    "score"
   ]
  },
  {
   "cell_type": "code",
   "execution_count": 28,
   "metadata": {},
   "outputs": [
    {
     "name": "stdout",
     "output_type": "stream",
     "text": [
      "Cross validation accuracy: 87.82 (+/- 11.331) %\n"
     ]
    }
   ],
   "source": [
    "print(\"Cross validation accuracy: {:5.2f} (+/- {:5.3f}) %\".format(score.mean * 100, score.std * 200))"
   ]
  },
  {
   "cell_type": "markdown",
   "metadata": {},
   "source": [
    "## BONUS\n",
    "\n",
    "Cross validation accuracy visualization"
   ]
  },
  {
   "cell_type": "code",
   "execution_count": 29,
   "metadata": {},
   "outputs": [],
   "source": [
    "# visualization tools - NOTE: These do not come in the requirements! (Hence the BONUS)\n",
    "from plotly import graph_objs as go\n",
    "from plotly.offline import init_notebook_mode, iplot"
   ]
  },
  {
   "cell_type": "code",
   "execution_count": 30,
   "metadata": {},
   "outputs": [
    {
     "data": {
      "text/html": [
       "<script>requirejs.config({paths: { 'plotly': ['https://cdn.plot.ly/plotly-latest.min']},});if(!window.Plotly) {{require(['plotly'],function(plotly) {window.Plotly=plotly;});}}</script>"
      ],
      "text/vnd.plotly.v1+html": [
       "<script>requirejs.config({paths: { 'plotly': ['https://cdn.plot.ly/plotly-latest.min']},});if(!window.Plotly) {{require(['plotly'],function(plotly) {window.Plotly=plotly;});}}</script>"
      ]
     },
     "metadata": {},
     "output_type": "display_data"
    }
   ],
   "source": [
    "# initialize plotly\n",
    "init_notebook_mode(connected=True)"
   ]
  },
  {
   "cell_type": "code",
   "execution_count": 31,
   "metadata": {},
   "outputs": [],
   "source": [
    "# compute cross validation few more times to get more data\n",
    "# NOTE: this might take a while to compute\n",
    "x_val_scores = [\n",
    "    toolkit.transformers.cross_validate(classifier,\n",
    "                                             X_train,\n",
    "                                             y_train,\n",
    "                                             shuffle=True,\n",
    "                                             n=3,\n",
    "                                             sample=True)\n",
    "    for _ in range(10)\n",
    "]"
   ]
  },
  {
   "cell_type": "code",
   "execution_count": 32,
   "metadata": {},
   "outputs": [],
   "source": [
    "x_val_scores = np.vstack(x_val_scores)"
   ]
  },
  {
   "cell_type": "code",
   "execution_count": 33,
   "metadata": {},
   "outputs": [],
   "source": [
    "scores, mean, std = np.hstack(x_val_scores[:, 0]), x_val_scores[:, 1].mean() , x_val_scores[:, 2].std()\n",
    "\n",
    "# subtract from 1 to get distane from the middle\n",
    "scores = 1.0 - scores\n",
    "mean = 1.0 - mean\n",
    "\n",
    "# show 2x std, as this is stated above as well\n",
    "std *= 2\n",
    "\n",
    "rad = np.linspace(0, 360, num=(len(scores) + 1)) * (np.pi / 180.)\n",
    "rad = rad[:-1]\n",
    "\n",
    "x = np.cos(rad) * (scores)\n",
    "y = np.sin(rad) * (scores)\n",
    "    \n",
    "data_labels = [\"{:5.3f} %\".format((1 - score) * 100) for score in scores]\n",
    "score_trace = go.Scatter(x=x,\n",
    "                         y=y,\n",
    "                         mode='markers',\n",
    "                         hovertext=data_labels,\n",
    "                         hoverinfo='text')"
   ]
  },
  {
   "cell_type": "code",
   "execution_count": 34,
   "metadata": {},
   "outputs": [],
   "source": [
    "cross_validation_layout = {\n",
    "    'xaxis': {\n",
    "        'zeroline': False,\n",
    "    },\n",
    "    'yaxis': {\n",
    "        'zeroline': False,\n",
    "        'scaleanchor': 'x',\n",
    "        'scaleratio': 1\n",
    "    },\n",
    "    'shapes': [\n",
    "        {\n",
    "            'type': 'circle',\n",
    "            'xref': 'x',\n",
    "            'yref': 'y',\n",
    "            'x0': -mean,\n",
    "            'y0': -mean,\n",
    "            'x1': mean,\n",
    "            'y1': mean,\n",
    "            'opacity': 0.1,\n",
    "            'fillcolor': 'red',\n",
    "            'line': {\n",
    "                'color': 'red',\n",
    "            }\n",
    "        },\n",
    "        {\n",
    "            'type': 'circle',\n",
    "            'xref': 'x',\n",
    "            'yref': 'y',\n",
    "            'x0': -mean - std,\n",
    "            'y0': -mean - std,\n",
    "            'x1': mean + std,\n",
    "            'y1': mean + std,\n",
    "            'opacity': 0.8,\n",
    "            'line': {\n",
    "                'color': 'orange',\n",
    "                'dash': 'dashdot',\n",
    "            }\n",
    "        },\n",
    "        {\n",
    "            'type': 'circle',\n",
    "            'xref': 'x',\n",
    "            'yref': 'y',\n",
    "            'x0': -mean + std,\n",
    "            'y0': -mean + std,\n",
    "            'x1': mean - std,\n",
    "            'y1': mean - std,\n",
    "            'opacity': 0.8,\n",
    "            'line': {\n",
    "                'color': 'orange',\n",
    "                'dash': 'dashdot',\n",
    "            }\n",
    "        },\n",
    "        {\n",
    "            'type': 'circle',\n",
    "            'xref': 'x',\n",
    "            'yref': 'y',\n",
    "            'x0': -0.001,\n",
    "            'y0': -0.001,\n",
    "            'x1': 0.001,\n",
    "            'y1': 0.001,\n",
    "            'opacity': 0.8,\n",
    "            'fillcolor': 'red',\n",
    "            'line': {\n",
    "                'color': 'red',\n",
    "            }\n",
    "        }\n",
    "    ]\n",
    "}"
   ]
  },
  {
   "cell_type": "code",
   "execution_count": 35,
   "metadata": {},
   "outputs": [
    {
     "data": {
      "application/vnd.plotly.v1+json": {
       "data": [
        {
         "hoverinfo": "text",
         "hovertext": [
          "90.000 %",
          "90.000 %",
          "86.667 %",
          "83.333 %",
          "86.667 %",
          "86.207 %",
          "96.552 %",
          "75.862 %",
          "93.103 %",
          "93.103 %",
          "93.333 %",
          "83.333 %",
          "93.333 %",
          "66.667 %",
          "96.667 %",
          "89.655 %",
          "96.552 %",
          "89.655 %",
          "96.552 %",
          "68.966 %",
          "100.000 %",
          "73.333 %",
          "93.333 %",
          "83.333 %",
          "90.000 %",
          "79.310 %",
          "93.103 %",
          "86.207 %",
          "93.103 %",
          "68.966 %",
          "80.000 %",
          "93.333 %",
          "90.000 %",
          "80.000 %",
          "90.000 %",
          "86.207 %",
          "89.655 %",
          "82.759 %",
          "86.207 %",
          "86.207 %",
          "90.000 %",
          "76.667 %",
          "93.333 %",
          "80.000 %",
          "93.333 %",
          "86.207 %",
          "96.552 %",
          "75.862 %",
          "86.207 %",
          "93.103 %",
          "86.667 %",
          "83.333 %",
          "80.000 %",
          "93.333 %",
          "80.000 %",
          "79.310 %",
          "93.103 %",
          "93.103 %",
          "82.759 %",
          "86.207 %",
          "86.667 %",
          "93.333 %",
          "80.000 %",
          "90.000 %",
          "90.000 %",
          "79.310 %",
          "93.103 %",
          "86.207 %",
          "86.207 %",
          "86.207 %",
          "83.333 %",
          "96.667 %",
          "90.000 %",
          "83.333 %",
          "93.333 %",
          "86.207 %",
          "89.655 %",
          "79.310 %",
          "89.655 %",
          "86.207 %",
          "96.667 %",
          "86.667 %",
          "93.333 %",
          "83.333 %",
          "83.333 %",
          "89.655 %",
          "82.759 %",
          "93.103 %",
          "89.655 %",
          "82.759 %",
          "96.667 %",
          "90.000 %",
          "86.667 %",
          "73.333 %",
          "80.000 %",
          "86.207 %",
          "89.655 %",
          "89.655 %",
          "86.207 %",
          "96.552 %"
         ],
         "mode": "markers",
         "type": "scatter",
         "x": [
          0.09999999999999998,
          0.09980267284282714,
          0.1322819601752637,
          0.16371454178811476,
          0.12914442148381744,
          0.13118020914415915,
          0.03206125813407759,
          0.21840652990559098,
          0.06043494345130096,
          0.05822951210358727,
          0.05393446629166315,
          0.12841887379596484,
          0.04859790849476076,
          0.22818236864289623,
          0.021247466324956322,
          0.06080537092680756,
          0.01847678603375848,
          0.049836586976039494,
          0.014682044536726625,
          0.11424555083317588,
          0,
          0.06631730324396128,
          0.012492087639048298,
          0.02088887226071737,
          0.006279051952931329,
          1.2668759991179515e-17,
          -0.004330380657194029,
          -0.017287342560593714,
          -0.012922849281774115,
          -0.07717962015461012,
          -0.06180339887498945,
          -0.02454163684564519,
          -0.04257792915650726,
          -0.09635073482034298,
          -0.053582679497899674,
          -0.0810738279024101,
          -0.06594041273262306,
          -0.11802536309115323,
          -0.10054739688571199,
          -0.10627768865872961,
          -0.08090169943749471,
          -0.19700984928380347,
          -0.05842044533625756,
          -0.1809654104932039,
          -0.06198509905921675,
          -0.13118020914415915,
          -0.0333994193492631,
          -0.23710381914140766,
          -0.13684340707785908,
          -0.06882942954677737,
          -0.1333333333333333,
          -0.16633778807137856,
          -0.19842294026289553,
          -0.06548581671524589,
          -0.19371663222572616,
          -0.19677031371623865,
          -0.0641225162681553,
          -0.06240186568731171,
          -0.15108735862825234,
          -0.11645902420717452,
          -0.10786893258332632,
          -0.05136754951838594,
          -0.14579372548428227,
          -0.06845471059286885,
          -0.06374239897486894,
          -0.12161074185361513,
          -0.03695357206751706,
          -0.06644878263471937,
          -0.05872817814690653,
          -0.050775800370300404,
          -0.05150283239582458,
          -0.008289662905495175,
          -0.01873813145857246,
          -0.020888872260717284,
          -0.0041860346352875465,
          -2.533751998235904e-17,
          0.006495570985791074,
          0.025931013840890527,
          0.01938427392266122,
          0.03430205340204897,
          0.010300566479164905,
          0.049083273691290424,
          0.028385286104338166,
          0.0802922790169526,
          0.08930446582983277,
          0.06080537092680753,
          0.10990068788770517,
          0.047210145236461304,
          0.07541054766428398,
          0.13284711082341197,
          0.026967233145831573,
          0.08443279255020152,
          0.11684089067251512,
          0.24128721399093864,
          0.18595529717765025,
          0.13118020914415915,
          0.10019825804778942,
          0.10161592248917468,
          0.13684340707785908,
          0.03441471477338863
         ],
         "y": [
          0,
          0.006279051952931336,
          0.016711097808573896,
          0.031230219097620766,
          0.03315865162198063,
          0.042623033706889316,
          0.012693950092575087,
          0.10277431175708653,
          0.03322439131735969,
          0.036953572067517024,
          0.039185683486164864,
          0.1062373316247816,
          0.045636473728579235,
          0.2429895424738039,
          0.02568377475919297,
          0.08369141321120145,
          0.02911475605179359,
          0.0906524151769514,
          0.03120093284365581,
          0.2885513232066987,
          0,
          0.258288842967635,
          0.0654858167152459,
          0.1653524502190796,
          0.09980267284282714,
          0.2068965517241379,
          0.06882942954677737,
          0.13684340707785905,
          0.0677439483261165,
          0.3005947741433682,
          0.19021130325903068,
          0.061985099059216744,
          0.09048270524660193,
          0.1752613360087727,
          0.08443279255020147,
          0.11158855094826865,
          0.07970826649404715,
          0.1256842461071399,
          0.0944202904729226,
          0.0879205503101641,
          0.058778525229247314,
          0.12502625216176586,
          0.032116911606781005,
          0.08515585831301448,
          0.024541636845645178,
          0.04262303370688933,
          0.008575513350512225,
          0.045229972486209385,
          0.017287342560593673,
          0.004330380657194011,
          1.6328623988631373e-17,
          -0.010465086588218889,
          -0.02506664671286085,
          -0.012492087639048315,
          -0.049737977432970995,
          -0.06393455056033391,
          -0.025387900185150213,
          -0.0293640890734533,
          -0.08306097829339922,
          -0.07390714413503406,
          -0.07837136697232971,
          -0.04249493264991263,
          -0.1369094211857377,
          -0.07289686274214113,
          -0.07705132427757892,
          -0.16738282642240288,
          -0.058229512103587254,
          -0.12086988690260192,
          -0.12480373137462347,
          -0.1282450325363106,
          -0.15850941938252555,
          -0.03228610537095436,
          -0.09822872507286885,
          -0.1653524502190796,
          -0.06653511522855142,
          -0.13793103448275867,
          -0.10324414432016601,
          -0.20526511061678848,
          -0.10161592248917467,
          -0.1335976773970526,
          -0.03170188387650511,
          -0.12397019811843348,
          -0.060321803497734625,
          -0.14605111334064386,
          -0.14072132091700246,
          -0.08369141321120147,
          -0.1328471108234119,
          -0.05027369844285599,
          -0.07081521785469189,
          -0.10990068788770511,
          -0.019592841743082443,
          -0.05358267949789962,
          -0.06423382321356202,
          -0.11354114441735261,
          -0.07362491053693555,
          -0.04262303370688934,
          -0.025726540051536666,
          -0.01938427392266117,
          -0.01728734256059363,
          -0.0021651903285970064
         ]
        }
       ],
       "layout": {
        "shapes": [
         {
          "fillcolor": "red",
          "line": {
           "color": "red"
          },
          "opacity": 0.1,
          "type": "circle",
          "x0": -0.12847126436781608,
          "x1": 0.12847126436781608,
          "xref": "x",
          "y0": -0.12847126436781608,
          "y1": 0.12847126436781608,
          "yref": "y"
         },
         {
          "line": {
           "color": "orange",
           "dash": "dashdot"
          },
          "opacity": 0.8,
          "type": "circle",
          "x0": -0.16900990224792062,
          "x1": 0.16900990224792062,
          "xref": "x",
          "y0": -0.16900990224792062,
          "y1": 0.16900990224792062,
          "yref": "y"
         },
         {
          "line": {
           "color": "orange",
           "dash": "dashdot"
          },
          "opacity": 0.8,
          "type": "circle",
          "x0": -0.08793262648771155,
          "x1": 0.08793262648771155,
          "xref": "x",
          "y0": -0.08793262648771155,
          "y1": 0.08793262648771155,
          "yref": "y"
         },
         {
          "fillcolor": "red",
          "line": {
           "color": "red"
          },
          "opacity": 0.8,
          "type": "circle",
          "x0": -0.001,
          "x1": 0.001,
          "xref": "x",
          "y0": -0.001,
          "y1": 0.001,
          "yref": "y"
         }
        ],
        "xaxis": {
         "zeroline": false
        },
        "yaxis": {
         "scaleanchor": "x",
         "scaleratio": 1,
         "zeroline": false
        }
       }
      },
      "text/html": [
       "<div id=\"40b8c38c-e713-46b9-943c-2d320e1b2629\" style=\"height: 525px; width: 100%;\" class=\"plotly-graph-div\"></div><script type=\"text/javascript\">require([\"plotly\"], function(Plotly) { window.PLOTLYENV=window.PLOTLYENV || {};window.PLOTLYENV.BASE_URL=\"https://plot.ly\";Plotly.newPlot(\"40b8c38c-e713-46b9-943c-2d320e1b2629\", [{\"type\": \"scatter\", \"x\": [0.09999999999999998, 0.09980267284282714, 0.1322819601752637, 0.16371454178811476, 0.12914442148381744, 0.13118020914415915, 0.03206125813407759, 0.21840652990559098, 0.06043494345130096, 0.05822951210358727, 0.05393446629166315, 0.12841887379596484, 0.04859790849476076, 0.22818236864289623, 0.021247466324956322, 0.06080537092680756, 0.01847678603375848, 0.049836586976039494, 0.014682044536726625, 0.11424555083317588, 0.0, 0.06631730324396128, 0.012492087639048298, 0.02088887226071737, 0.006279051952931329, 1.2668759991179515e-17, -0.004330380657194029, -0.017287342560593714, -0.012922849281774115, -0.07717962015461012, -0.06180339887498945, -0.02454163684564519, -0.04257792915650726, -0.09635073482034298, -0.053582679497899674, -0.0810738279024101, -0.06594041273262306, -0.11802536309115323, -0.10054739688571199, -0.10627768865872961, -0.08090169943749471, -0.19700984928380347, -0.05842044533625756, -0.1809654104932039, -0.06198509905921675, -0.13118020914415915, -0.0333994193492631, -0.23710381914140766, -0.13684340707785908, -0.06882942954677737, -0.1333333333333333, -0.16633778807137856, -0.19842294026289553, -0.06548581671524589, -0.19371663222572616, -0.19677031371623865, -0.0641225162681553, -0.06240186568731171, -0.15108735862825234, -0.11645902420717452, -0.10786893258332632, -0.05136754951838594, -0.14579372548428227, -0.06845471059286885, -0.06374239897486894, -0.12161074185361513, -0.03695357206751706, -0.06644878263471937, -0.05872817814690653, -0.050775800370300404, -0.05150283239582458, -0.008289662905495175, -0.01873813145857246, -0.020888872260717284, -0.0041860346352875465, -2.533751998235904e-17, 0.006495570985791074, 0.025931013840890527, 0.01938427392266122, 0.03430205340204897, 0.010300566479164905, 0.049083273691290424, 0.028385286104338166, 0.0802922790169526, 0.08930446582983277, 0.06080537092680753, 0.10990068788770517, 0.047210145236461304, 0.07541054766428398, 0.13284711082341197, 0.026967233145831573, 0.08443279255020152, 0.11684089067251512, 0.24128721399093864, 0.18595529717765025, 0.13118020914415915, 0.10019825804778942, 0.10161592248917468, 0.13684340707785908, 0.03441471477338863], \"y\": [0.0, 0.006279051952931336, 0.016711097808573896, 0.031230219097620766, 0.03315865162198063, 0.042623033706889316, 0.012693950092575087, 0.10277431175708653, 0.03322439131735969, 0.036953572067517024, 0.039185683486164864, 0.1062373316247816, 0.045636473728579235, 0.2429895424738039, 0.02568377475919297, 0.08369141321120145, 0.02911475605179359, 0.0906524151769514, 0.03120093284365581, 0.2885513232066987, 0.0, 0.258288842967635, 0.0654858167152459, 0.1653524502190796, 0.09980267284282714, 0.2068965517241379, 0.06882942954677737, 0.13684340707785905, 0.0677439483261165, 0.3005947741433682, 0.19021130325903068, 0.061985099059216744, 0.09048270524660193, 0.1752613360087727, 0.08443279255020147, 0.11158855094826865, 0.07970826649404715, 0.1256842461071399, 0.0944202904729226, 0.0879205503101641, 0.058778525229247314, 0.12502625216176586, 0.032116911606781005, 0.08515585831301448, 0.024541636845645178, 0.04262303370688933, 0.008575513350512225, 0.045229972486209385, 0.017287342560593673, 0.004330380657194011, 1.6328623988631373e-17, -0.010465086588218889, -0.02506664671286085, -0.012492087639048315, -0.049737977432970995, -0.06393455056033391, -0.025387900185150213, -0.0293640890734533, -0.08306097829339922, -0.07390714413503406, -0.07837136697232971, -0.04249493264991263, -0.1369094211857377, -0.07289686274214113, -0.07705132427757892, -0.16738282642240288, -0.058229512103587254, -0.12086988690260192, -0.12480373137462347, -0.1282450325363106, -0.15850941938252555, -0.03228610537095436, -0.09822872507286885, -0.1653524502190796, -0.06653511522855142, -0.13793103448275867, -0.10324414432016601, -0.20526511061678848, -0.10161592248917467, -0.1335976773970526, -0.03170188387650511, -0.12397019811843348, -0.060321803497734625, -0.14605111334064386, -0.14072132091700246, -0.08369141321120147, -0.1328471108234119, -0.05027369844285599, -0.07081521785469189, -0.10990068788770511, -0.019592841743082443, -0.05358267949789962, -0.06423382321356202, -0.11354114441735261, -0.07362491053693555, -0.04262303370688934, -0.025726540051536666, -0.01938427392266117, -0.01728734256059363, -0.0021651903285970064], \"mode\": \"markers\", \"hovertext\": [\"90.000 %\", \"90.000 %\", \"86.667 %\", \"83.333 %\", \"86.667 %\", \"86.207 %\", \"96.552 %\", \"75.862 %\", \"93.103 %\", \"93.103 %\", \"93.333 %\", \"83.333 %\", \"93.333 %\", \"66.667 %\", \"96.667 %\", \"89.655 %\", \"96.552 %\", \"89.655 %\", \"96.552 %\", \"68.966 %\", \"100.000 %\", \"73.333 %\", \"93.333 %\", \"83.333 %\", \"90.000 %\", \"79.310 %\", \"93.103 %\", \"86.207 %\", \"93.103 %\", \"68.966 %\", \"80.000 %\", \"93.333 %\", \"90.000 %\", \"80.000 %\", \"90.000 %\", \"86.207 %\", \"89.655 %\", \"82.759 %\", \"86.207 %\", \"86.207 %\", \"90.000 %\", \"76.667 %\", \"93.333 %\", \"80.000 %\", \"93.333 %\", \"86.207 %\", \"96.552 %\", \"75.862 %\", \"86.207 %\", \"93.103 %\", \"86.667 %\", \"83.333 %\", \"80.000 %\", \"93.333 %\", \"80.000 %\", \"79.310 %\", \"93.103 %\", \"93.103 %\", \"82.759 %\", \"86.207 %\", \"86.667 %\", \"93.333 %\", \"80.000 %\", \"90.000 %\", \"90.000 %\", \"79.310 %\", \"93.103 %\", \"86.207 %\", \"86.207 %\", \"86.207 %\", \"83.333 %\", \"96.667 %\", \"90.000 %\", \"83.333 %\", \"93.333 %\", \"86.207 %\", \"89.655 %\", \"79.310 %\", \"89.655 %\", \"86.207 %\", \"96.667 %\", \"86.667 %\", \"93.333 %\", \"83.333 %\", \"83.333 %\", \"89.655 %\", \"82.759 %\", \"93.103 %\", \"89.655 %\", \"82.759 %\", \"96.667 %\", \"90.000 %\", \"86.667 %\", \"73.333 %\", \"80.000 %\", \"86.207 %\", \"89.655 %\", \"89.655 %\", \"86.207 %\", \"96.552 %\"], \"hoverinfo\": \"text\"}], {\"xaxis\": {\"zeroline\": false}, \"yaxis\": {\"zeroline\": false, \"scaleanchor\": \"x\", \"scaleratio\": 1}, \"shapes\": [{\"type\": \"circle\", \"xref\": \"x\", \"yref\": \"y\", \"x0\": -0.12847126436781608, \"y0\": -0.12847126436781608, \"x1\": 0.12847126436781608, \"y1\": 0.12847126436781608, \"opacity\": 0.1, \"fillcolor\": \"red\", \"line\": {\"color\": \"red\"}}, {\"type\": \"circle\", \"xref\": \"x\", \"yref\": \"y\", \"x0\": -0.16900990224792062, \"y0\": -0.16900990224792062, \"x1\": 0.16900990224792062, \"y1\": 0.16900990224792062, \"opacity\": 0.8, \"line\": {\"color\": \"orange\", \"dash\": \"dashdot\"}}, {\"type\": \"circle\", \"xref\": \"x\", \"yref\": \"y\", \"x0\": -0.08793262648771155, \"y0\": -0.08793262648771155, \"x1\": 0.08793262648771155, \"y1\": 0.08793262648771155, \"opacity\": 0.8, \"line\": {\"color\": \"orange\", \"dash\": \"dashdot\"}}, {\"type\": \"circle\", \"xref\": \"x\", \"yref\": \"y\", \"x0\": -0.001, \"y0\": -0.001, \"x1\": 0.001, \"y1\": 0.001, \"opacity\": 0.8, \"fillcolor\": \"red\", \"line\": {\"color\": \"red\"}}]}, {\"showLink\": false, \"linkText\": \"Export to plot.ly\"})});</script>"
      ],
      "text/vnd.plotly.v1+html": [
       "<div id=\"40b8c38c-e713-46b9-943c-2d320e1b2629\" style=\"height: 525px; width: 100%;\" class=\"plotly-graph-div\"></div><script type=\"text/javascript\">require([\"plotly\"], function(Plotly) { window.PLOTLYENV=window.PLOTLYENV || {};window.PLOTLYENV.BASE_URL=\"https://plot.ly\";Plotly.newPlot(\"40b8c38c-e713-46b9-943c-2d320e1b2629\", [{\"type\": \"scatter\", \"x\": [0.09999999999999998, 0.09980267284282714, 0.1322819601752637, 0.16371454178811476, 0.12914442148381744, 0.13118020914415915, 0.03206125813407759, 0.21840652990559098, 0.06043494345130096, 0.05822951210358727, 0.05393446629166315, 0.12841887379596484, 0.04859790849476076, 0.22818236864289623, 0.021247466324956322, 0.06080537092680756, 0.01847678603375848, 0.049836586976039494, 0.014682044536726625, 0.11424555083317588, 0.0, 0.06631730324396128, 0.012492087639048298, 0.02088887226071737, 0.006279051952931329, 1.2668759991179515e-17, -0.004330380657194029, -0.017287342560593714, -0.012922849281774115, -0.07717962015461012, -0.06180339887498945, -0.02454163684564519, -0.04257792915650726, -0.09635073482034298, -0.053582679497899674, -0.0810738279024101, -0.06594041273262306, -0.11802536309115323, -0.10054739688571199, -0.10627768865872961, -0.08090169943749471, -0.19700984928380347, -0.05842044533625756, -0.1809654104932039, -0.06198509905921675, -0.13118020914415915, -0.0333994193492631, -0.23710381914140766, -0.13684340707785908, -0.06882942954677737, -0.1333333333333333, -0.16633778807137856, -0.19842294026289553, -0.06548581671524589, -0.19371663222572616, -0.19677031371623865, -0.0641225162681553, -0.06240186568731171, -0.15108735862825234, -0.11645902420717452, -0.10786893258332632, -0.05136754951838594, -0.14579372548428227, -0.06845471059286885, -0.06374239897486894, -0.12161074185361513, -0.03695357206751706, -0.06644878263471937, -0.05872817814690653, -0.050775800370300404, -0.05150283239582458, -0.008289662905495175, -0.01873813145857246, -0.020888872260717284, -0.0041860346352875465, -2.533751998235904e-17, 0.006495570985791074, 0.025931013840890527, 0.01938427392266122, 0.03430205340204897, 0.010300566479164905, 0.049083273691290424, 0.028385286104338166, 0.0802922790169526, 0.08930446582983277, 0.06080537092680753, 0.10990068788770517, 0.047210145236461304, 0.07541054766428398, 0.13284711082341197, 0.026967233145831573, 0.08443279255020152, 0.11684089067251512, 0.24128721399093864, 0.18595529717765025, 0.13118020914415915, 0.10019825804778942, 0.10161592248917468, 0.13684340707785908, 0.03441471477338863], \"y\": [0.0, 0.006279051952931336, 0.016711097808573896, 0.031230219097620766, 0.03315865162198063, 0.042623033706889316, 0.012693950092575087, 0.10277431175708653, 0.03322439131735969, 0.036953572067517024, 0.039185683486164864, 0.1062373316247816, 0.045636473728579235, 0.2429895424738039, 0.02568377475919297, 0.08369141321120145, 0.02911475605179359, 0.0906524151769514, 0.03120093284365581, 0.2885513232066987, 0.0, 0.258288842967635, 0.0654858167152459, 0.1653524502190796, 0.09980267284282714, 0.2068965517241379, 0.06882942954677737, 0.13684340707785905, 0.0677439483261165, 0.3005947741433682, 0.19021130325903068, 0.061985099059216744, 0.09048270524660193, 0.1752613360087727, 0.08443279255020147, 0.11158855094826865, 0.07970826649404715, 0.1256842461071399, 0.0944202904729226, 0.0879205503101641, 0.058778525229247314, 0.12502625216176586, 0.032116911606781005, 0.08515585831301448, 0.024541636845645178, 0.04262303370688933, 0.008575513350512225, 0.045229972486209385, 0.017287342560593673, 0.004330380657194011, 1.6328623988631373e-17, -0.010465086588218889, -0.02506664671286085, -0.012492087639048315, -0.049737977432970995, -0.06393455056033391, -0.025387900185150213, -0.0293640890734533, -0.08306097829339922, -0.07390714413503406, -0.07837136697232971, -0.04249493264991263, -0.1369094211857377, -0.07289686274214113, -0.07705132427757892, -0.16738282642240288, -0.058229512103587254, -0.12086988690260192, -0.12480373137462347, -0.1282450325363106, -0.15850941938252555, -0.03228610537095436, -0.09822872507286885, -0.1653524502190796, -0.06653511522855142, -0.13793103448275867, -0.10324414432016601, -0.20526511061678848, -0.10161592248917467, -0.1335976773970526, -0.03170188387650511, -0.12397019811843348, -0.060321803497734625, -0.14605111334064386, -0.14072132091700246, -0.08369141321120147, -0.1328471108234119, -0.05027369844285599, -0.07081521785469189, -0.10990068788770511, -0.019592841743082443, -0.05358267949789962, -0.06423382321356202, -0.11354114441735261, -0.07362491053693555, -0.04262303370688934, -0.025726540051536666, -0.01938427392266117, -0.01728734256059363, -0.0021651903285970064], \"mode\": \"markers\", \"hovertext\": [\"90.000 %\", \"90.000 %\", \"86.667 %\", \"83.333 %\", \"86.667 %\", \"86.207 %\", \"96.552 %\", \"75.862 %\", \"93.103 %\", \"93.103 %\", \"93.333 %\", \"83.333 %\", \"93.333 %\", \"66.667 %\", \"96.667 %\", \"89.655 %\", \"96.552 %\", \"89.655 %\", \"96.552 %\", \"68.966 %\", \"100.000 %\", \"73.333 %\", \"93.333 %\", \"83.333 %\", \"90.000 %\", \"79.310 %\", \"93.103 %\", \"86.207 %\", \"93.103 %\", \"68.966 %\", \"80.000 %\", \"93.333 %\", \"90.000 %\", \"80.000 %\", \"90.000 %\", \"86.207 %\", \"89.655 %\", \"82.759 %\", \"86.207 %\", \"86.207 %\", \"90.000 %\", \"76.667 %\", \"93.333 %\", \"80.000 %\", \"93.333 %\", \"86.207 %\", \"96.552 %\", \"75.862 %\", \"86.207 %\", \"93.103 %\", \"86.667 %\", \"83.333 %\", \"80.000 %\", \"93.333 %\", \"80.000 %\", \"79.310 %\", \"93.103 %\", \"93.103 %\", \"82.759 %\", \"86.207 %\", \"86.667 %\", \"93.333 %\", \"80.000 %\", \"90.000 %\", \"90.000 %\", \"79.310 %\", \"93.103 %\", \"86.207 %\", \"86.207 %\", \"86.207 %\", \"83.333 %\", \"96.667 %\", \"90.000 %\", \"83.333 %\", \"93.333 %\", \"86.207 %\", \"89.655 %\", \"79.310 %\", \"89.655 %\", \"86.207 %\", \"96.667 %\", \"86.667 %\", \"93.333 %\", \"83.333 %\", \"83.333 %\", \"89.655 %\", \"82.759 %\", \"93.103 %\", \"89.655 %\", \"82.759 %\", \"96.667 %\", \"90.000 %\", \"86.667 %\", \"73.333 %\", \"80.000 %\", \"86.207 %\", \"89.655 %\", \"89.655 %\", \"86.207 %\", \"96.552 %\"], \"hoverinfo\": \"text\"}], {\"xaxis\": {\"zeroline\": false}, \"yaxis\": {\"zeroline\": false, \"scaleanchor\": \"x\", \"scaleratio\": 1}, \"shapes\": [{\"type\": \"circle\", \"xref\": \"x\", \"yref\": \"y\", \"x0\": -0.12847126436781608, \"y0\": -0.12847126436781608, \"x1\": 0.12847126436781608, \"y1\": 0.12847126436781608, \"opacity\": 0.1, \"fillcolor\": \"red\", \"line\": {\"color\": \"red\"}}, {\"type\": \"circle\", \"xref\": \"x\", \"yref\": \"y\", \"x0\": -0.16900990224792062, \"y0\": -0.16900990224792062, \"x1\": 0.16900990224792062, \"y1\": 0.16900990224792062, \"opacity\": 0.8, \"line\": {\"color\": \"orange\", \"dash\": \"dashdot\"}}, {\"type\": \"circle\", \"xref\": \"x\", \"yref\": \"y\", \"x0\": -0.08793262648771155, \"y0\": -0.08793262648771155, \"x1\": 0.08793262648771155, \"y1\": 0.08793262648771155, \"opacity\": 0.8, \"line\": {\"color\": \"orange\", \"dash\": \"dashdot\"}}, {\"type\": \"circle\", \"xref\": \"x\", \"yref\": \"y\", \"x0\": -0.001, \"y0\": -0.001, \"x1\": 0.001, \"y1\": 0.001, \"opacity\": 0.8, \"fillcolor\": \"red\", \"line\": {\"color\": \"red\"}}]}, {\"showLink\": false, \"linkText\": \"Export to plot.ly\"})});</script>"
      ]
     },
     "metadata": {},
     "output_type": "display_data"
    }
   ],
   "source": [
    "# visualize cross validation accuracy\n",
    "fig = {\n",
    "    'data': [score_trace],\n",
    "    'layout': cross_validation_layout\n",
    "}\n",
    "\n",
    "iplot(fig, show_link=False)"
   ]
  }
 ],
 "metadata": {
  "kernelspec": {
   "display_name": "env",
   "language": "python",
   "name": "env"
  },
  "language_info": {
   "codemirror_mode": {
    "name": "ipython",
    "version": 3
   },
   "file_extension": ".py",
   "mimetype": "text/x-python",
   "name": "python",
   "nbconvert_exporter": "python",
   "pygments_lexer": "ipython3",
   "version": "3.6.5"
  }
 },
 "nbformat": 4,
 "nbformat_minor": 2
}
