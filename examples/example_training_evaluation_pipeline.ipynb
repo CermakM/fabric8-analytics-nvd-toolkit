{
 "cells": [
  {
   "cell_type": "code",
   "execution_count": 1,
   "metadata": {},
   "outputs": [],
   "source": [
    "import re\n",
    "import sys\n",
    "\n",
    "import nltk\n",
    "import numpy as np\n",
    "\n",
    "from sklearn.pipeline import Pipeline\n",
    "\n",
    "# nvdlib has be installed (I suggest to use venv for that)\n",
    "from nvdlib.nvd import NVD\n",
    "\n",
    "# add the experimental project to the path\n",
    "sys.path.append(\"../src\")\n",
    "import toolkit  # import the toolkit"
   ]
  },
  {
   "cell_type": "markdown",
   "metadata": {},
   "source": [
    "### Get the NVD Feed"
   ]
  },
  {
   "cell_type": "code",
   "execution_count": 2,
   "metadata": {},
   "outputs": [],
   "source": [
    "# get the nvd feed\n",
    "feed = NVD.from_feeds(feed_names=[2017])\n",
    "# update\n",
    "# feed.update()\n",
    "\n",
    "# generator\n",
    "cves = feed.cves()\n",
    "\n",
    "# assign the cves to the DATA variable and unpack the iterator (iterator does not\n",
    "# matter to the pipeline, but for the purpose of reusing the DATA in the notebook,\n",
    "# it is usefull to unpack it)\n",
    "DATA = list(cves)"
   ]
  },
  {
   "cell_type": "markdown",
   "metadata": {},
   "source": [
    "## Training Example\n",
    "\n",
    "**NOTE:**\n",
    "Part of the pipeline consists of preprocessors, these were presented in [example_preprocessing_pipeline.ipynb](https://github.com/CermakM/fabric8-analytics-POCs/blob/codebase/cves/toolkit/examples/example_preprocessing_pipeline.ipynb)"
   ]
  },
  {
   "cell_type": "code",
   "execution_count": 3,
   "metadata": {},
   "outputs": [],
   "source": [
    "# we can define custom features to be used in feature extraction process\n",
    "from toolkit.transformers import feature_hooks\n",
    "\n",
    "FEATURE_HOOKS = None  # will be defined later"
   ]
  },
  {
   "cell_type": "code",
   "execution_count": 4,
   "metadata": {},
   "outputs": [],
   "source": [
    "toolkit.transformers.Hook.clear_current_instances()"
   ]
  },
  {
   "cell_type": "markdown",
   "metadata": {},
   "source": [
    "If there is a need to split the training process into preprocessing and training, you can easily define two separate pipelines for that."
   ]
  },
  {
   "cell_type": "code",
   "execution_count": 5,
   "metadata": {},
   "outputs": [],
   "source": [
    "preprocessing_pipeline = Pipeline(\n",
    "    steps=[\n",
    "        (\n",
    "            'nvd_feed_preprocessor',\n",
    "            toolkit.preprocessing.NVDFeedPreprocessor(\n",
    "                attributes=['cve_id', 'description']\n",
    "            )\n",
    "        ),\n",
    "        (\n",
    "            'label_preprocessor', \n",
    "            toolkit.preprocessing.LabelPreprocessor(\n",
    "                feed_attributes=['project', 'description'],\n",
    "                output_attributes=['cve_id', 'description'],\n",
    "                hook=toolkit.transformers.Hook(key='label_hook', func=toolkit.utils.find_)\n",
    "            )\n",
    "        ),\n",
    "        (\n",
    "            'nltk_preprocessor',\n",
    "            toolkit.preprocessing.NLTKPreprocessor()\n",
    "            \n",
    "        ),\n",
    "    ]\n",
    ")"
   ]
  },
  {
   "cell_type": "code",
   "execution_count": 6,
   "metadata": {
    "scrolled": true
   },
   "outputs": [],
   "source": [
    "steps, preps = list(zip(*preprocessing_pipeline.steps))\n",
    "\n",
    "fit_params = {\n",
    "    \"%s__feed_attributes\" % steps[2]: ['description'],\n",
    "    \"%s__output_attributes\" % steps[2]: ['cve_id', 'label']\n",
    "}\n",
    "processed_data = preprocessing_pipeline.fit_transform(X=DATA, **fit_params)"
   ]
  },
  {
   "cell_type": "code",
   "execution_count": 7,
   "metadata": {},
   "outputs": [
    {
     "data": {
      "text/plain": [
       "([('The', 'DET'),\n",
       "  ('hidden-service', 'ADJ'),\n",
       "  ('feature', 'NOUN'),\n",
       "  ('in', 'ADP'),\n",
       "  ('Tor', 'NOUN'),\n",
       "  ('before', 'ADP'),\n",
       "  ('<VERSION>', 'NUM'),\n",
       "  ('allows', 'VERB'),\n",
       "  ('a', 'DET'),\n",
       "  ('denial', 'NOUN'),\n",
       "  ('of', 'ADP'),\n",
       "  ('service', 'NOUN'),\n",
       "  ('assertion', 'ADJ'),\n",
       "  ('failure', 'NOUN'),\n",
       "  ('and', 'CONJ'),\n",
       "  ('daemon', 'ADJ'),\n",
       "  ('exit', 'NOUN'),\n",
       "  ('in', 'ADP'),\n",
       "  ('the', 'DET'),\n",
       "  ('relay_send_end_cell_from_edge_', 'NOUN'),\n",
       "  ('function', 'NOUN'),\n",
       "  ('via', 'ADP'),\n",
       "  ('a', 'DET'),\n",
       "  ('malformed', 'ADJ'),\n",
       "  ('BEGIN', 'NOUN'),\n",
       "  ('cell', 'NOUN')],\n",
       " 'CVE-2017-0375',\n",
       " 'Tor')"
      ]
     },
     "execution_count": 7,
     "metadata": {},
     "output_type": "execute_result"
    }
   ],
   "source": [
    "# resulting data consists of list of Series object -- objects\n",
    "# containing features output attributes\n",
    "series = processed_data[0]\n",
    "series.features, series.cve_id, series.label"
   ]
  },
  {
   "cell_type": "code",
   "execution_count": 8,
   "metadata": {},
   "outputs": [],
   "source": [
    "train_pipeline = Pipeline(\n",
    "    steps=[\n",
    "        (\n",
    "            'feature_extractor',\n",
    "            toolkit.transformers.FeatureExtractor(\n",
    "                feature_hooks=FEATURE_HOOKS,\n",
    "                share_hooks=True\n",
    "            )\n",
    "        ),\n",
    "        (\n",
    "            'classifier',\n",
    "            toolkit.transformers.NBClassifier()\n",
    "        )\n",
    "    ]\n",
    ")"
   ]
  },
  {
   "cell_type": "code",
   "execution_count": 9,
   "metadata": {},
   "outputs": [],
   "source": [
    "# classifier = train_pipeline.fit_transform(X=data, y=labels)\n",
    "classifier = train_pipeline.fit_transform(processed_data)"
   ]
  },
  {
   "cell_type": "markdown",
   "metadata": {},
   "source": [
    "We can even build the whole training pipeline at once."
   ]
  },
  {
   "cell_type": "code",
   "execution_count": 10,
   "metadata": {},
   "outputs": [],
   "source": [
    "training_pipeline = Pipeline(\n",
    "    steps=[\n",
    "        (\n",
    "            'nvd_feed_preprocessor',\n",
    "            toolkit.preprocessing.NVDFeedPreprocessor(\n",
    "                attributes=['cve_id', 'description']\n",
    "            )\n",
    "        ),\n",
    "        (\n",
    "            'label_preprocessor', \n",
    "            toolkit.preprocessing.LabelPreprocessor(\n",
    "                feed_attributes=['project', 'description'],\n",
    "                output_attributes=['cve_id', 'description'],\n",
    "                hook=toolkit.transformers.Hook(key='label_hook',\n",
    "                                               reuse=True,\n",
    "                                               func=toolkit.utils.find_)\n",
    "            )\n",
    "        ),\n",
    "        (\n",
    "            'nltk_preprocessor',\n",
    "            toolkit.preprocessing.NLTKPreprocessor()\n",
    "        ),\n",
    "        (\n",
    "            'feature_extractor',\n",
    "            toolkit.transformers.FeatureExtractor(\n",
    "                feature_hooks=FEATURE_HOOKS,\n",
    "                share_hooks=True\n",
    "            )\n",
    "        ),\n",
    "        (\n",
    "            'classifier',\n",
    "            toolkit.transformers.NBClassifier()\n",
    "        )\n",
    "    ]\n",
    ")"
   ]
  },
  {
   "cell_type": "code",
   "execution_count": 11,
   "metadata": {
    "scrolled": true
   },
   "outputs": [],
   "source": [
    "steps, preps = list(zip(*preprocessing_pipeline.steps))\n",
    "\n",
    "fit_params = {\n",
    "    \"%s__feed_attributes\" % steps[2]: ['description'],\n",
    "    \"%s__output_attributes\" % steps[2]: ['cve_id', 'label']\n",
    "}\n",
    "\n",
    "# feed it initial raw unprocessed data and let the toolkit handle the rest\n",
    "classifier = training_pipeline.fit_transform(X=DATA, **fit_params)"
   ]
  },
  {
   "cell_type": "markdown",
   "metadata": {},
   "source": [
    "## Evaluation example"
   ]
  },
  {
   "cell_type": "code",
   "execution_count": 12,
   "metadata": {},
   "outputs": [],
   "source": [
    "from sklearn.model_selection import train_test_split, KFold"
   ]
  },
  {
   "cell_type": "code",
   "execution_count": 13,
   "metadata": {},
   "outputs": [],
   "source": [
    "toolkit.transformers.Hook.clear_current_instances()"
   ]
  },
  {
   "cell_type": "markdown",
   "metadata": {},
   "source": [
    "Here we'll use only FeatureExtractor along with our processed data.\n",
    "\n",
    "*NOTE:* The feature extractor executes hooks which extract features from the data. Each of these hooks is fed either a feed dict, if the input data consists of `namedtuple`s, or the **whole** `x` (element of `X`), which means, that if `x` is a list containing more than just features to be extracted, they will be fed to the hooks as well!\n",
    "\n",
    "TLDR; The default hooks will search for `features` attribute in `x`, if `x` is a `namedtuple` otherwise they'll take the whole `x`."
   ]
  },
  {
   "cell_type": "code",
   "execution_count": 14,
   "metadata": {},
   "outputs": [],
   "source": [
    "# instantiate feature extractor\n",
    "feature_extractor = toolkit.transformers.FeatureExtractor(\n",
    "    feature_hooks=FEATURE_HOOKS,\n",
    "    share_hooks=True\n",
    ")"
   ]
  },
  {
   "cell_type": "markdown",
   "metadata": {},
   "source": [
    "##### To demonstrate the above mentioned: This will throw and error"
   ]
  },
  {
   "cell_type": "code",
   "execution_count": 15,
   "metadata": {},
   "outputs": [
    {
     "data": {
      "text/plain": [
       "array([[list([('The', 'DET'), ('hidden-service', 'ADJ'), ('feature', 'NOUN'), ('in', 'ADP'), ('Tor', 'NOUN'), ('before', 'ADP'), ('<VERSION>', 'NUM'), ('allows', 'VERB'), ('a', 'DET'), ('denial', 'NOUN'), ('of', 'ADP'), ('service', 'NOUN'), ('assertion', 'ADJ'), ('failure', 'NOUN'), ('and', 'CONJ'), ('daemon', 'ADJ'), ('exit', 'NOUN'), ('in', 'ADP'), ('the', 'DET'), ('relay_send_end_cell_from_edge_', 'NOUN'), ('function', 'NOUN'), ('via', 'ADP'), ('a', 'DET'), ('malformed', 'ADJ'), ('BEGIN', 'NOUN'), ('cell', 'NOUN')]),\n",
       "        'CVE-2017-0375']], dtype=object)"
      ]
     },
     "execution_count": 15,
     "metadata": {},
     "output_type": "execute_result"
    }
   ],
   "source": [
    "# split the processed data into data and labels (target values)\n",
    "processed_data_array = np.array(processed_data)\n",
    "\n",
    "data, labels = processed_data_array[:, :2], processed_data_array[:, 2]\n",
    "data[:1]"
   ]
  },
  {
   "cell_type": "code",
   "execution_count": 16,
   "metadata": {},
   "outputs": [
    {
     "name": "stdout",
     "output_type": "stream",
     "text": [
      "Exception raised!\n"
     ]
    }
   ],
   "source": [
    "# create the featureset from the evaluation pipeline\n",
    "# the featureset is an ndarray of feature dicts and labels\n",
    "try:\n",
    "    featuresets = feature_extractor.fit_transform(data, labels)\n",
    "except Exception:\n",
    "    print(\"Exception raised!\")"
   ]
  },
  {
   "cell_type": "markdown",
   "metadata": {},
   "source": [
    "##### To demonstrate the above mentioned: This will work"
   ]
  },
  {
   "cell_type": "code",
   "execution_count": 17,
   "metadata": {},
   "outputs": [
    {
     "data": {
      "text/plain": [
       "array([list([('The', 'DET'), ('hidden-service', 'ADJ'), ('feature', 'NOUN'), ('in', 'ADP'), ('Tor', 'NOUN'), ('before', 'ADP'), ('<VERSION>', 'NUM'), ('allows', 'VERB'), ('a', 'DET'), ('denial', 'NOUN'), ('of', 'ADP'), ('service', 'NOUN'), ('assertion', 'ADJ'), ('failure', 'NOUN'), ('and', 'CONJ'), ('daemon', 'ADJ'), ('exit', 'NOUN'), ('in', 'ADP'), ('the', 'DET'), ('relay_send_end_cell_from_edge_', 'NOUN'), ('function', 'NOUN'), ('via', 'ADP'), ('a', 'DET'), ('malformed', 'ADJ'), ('BEGIN', 'NOUN'), ('cell', 'NOUN')])],\n",
       "      dtype=object)"
      ]
     },
     "execution_count": 17,
     "metadata": {},
     "output_type": "execute_result"
    }
   ],
   "source": [
    "# split the processed data into data and labels (target values)\n",
    "processed_data_array = np.array(processed_data)\n",
    "\n",
    "data, labels = processed_data_array[:, 0], processed_data_array[:, -1]\n",
    "data[:1]"
   ]
  },
  {
   "cell_type": "code",
   "execution_count": 18,
   "metadata": {},
   "outputs": [],
   "source": [
    "# create the featureset from the evaluation pipeline\n",
    "# the featureset is an ndarray of feature dicts and labels\n",
    "featuresets = feature_extractor.fit_transform(data, labels)"
   ]
  },
  {
   "cell_type": "markdown",
   "metadata": {},
   "source": [
    "##### To demonstrate the above mentioned:  And so will this"
   ]
  },
  {
   "cell_type": "code",
   "execution_count": 19,
   "metadata": {},
   "outputs": [
    {
     "data": {
      "text/plain": [
       "[Series(features=[('The', 'DET'), ('hidden-service', 'ADJ'), ('feature', 'NOUN'), ('in', 'ADP'), ('Tor', 'NOUN'), ('before', 'ADP'), ('<VERSION>', 'NUM'), ('allows', 'VERB'), ('a', 'DET'), ('denial', 'NOUN'), ('of', 'ADP'), ('service', 'NOUN'), ('assertion', 'ADJ'), ('failure', 'NOUN'), ('and', 'CONJ'), ('daemon', 'ADJ'), ('exit', 'NOUN'), ('in', 'ADP'), ('the', 'DET'), ('relay_send_end_cell_from_edge_', 'NOUN'), ('function', 'NOUN'), ('via', 'ADP'), ('a', 'DET'), ('malformed', 'ADJ'), ('BEGIN', 'NOUN'), ('cell', 'NOUN')], cve_id='CVE-2017-0375', label='Tor')]"
      ]
     },
     "execution_count": 19,
     "metadata": {},
     "output_type": "execute_result"
    }
   ],
   "source": [
    "processed_data[:1]"
   ]
  },
  {
   "cell_type": "code",
   "execution_count": 20,
   "metadata": {},
   "outputs": [],
   "source": [
    "# create the featureset from the evaluation pipeline\n",
    "# the featureset is an ndarray of feature dicts and labels\n",
    "featuresets = feature_extractor.fit_transform(processed_data)"
   ]
  },
  {
   "cell_type": "markdown",
   "metadata": {},
   "source": [
    "---"
   ]
  },
  {
   "cell_type": "code",
   "execution_count": 21,
   "metadata": {},
   "outputs": [
    {
     "data": {
      "text/plain": [
       "((296,), (1188,))"
      ]
     },
     "execution_count": 21,
     "metadata": {},
     "output_type": "execute_result"
    }
   ],
   "source": [
    "# split the data into train / test set\n",
    "X_train, X_test, y_train, y_test = train_test_split(\n",
    "    featuresets, labels,\n",
    "    test_size = 0.8,  # split in the ratio 1:5 to show how well the model generalizes\n",
    "    random_state=0\n",
    ")\n",
    "\n",
    "X_train.shape, X_test.shape"
   ]
  },
  {
   "cell_type": "code",
   "execution_count": 22,
   "metadata": {},
   "outputs": [
    {
     "data": {
      "text/plain": [
       "<toolkit.transformers.classifiers.NBClassifier at 0x7fd8d29916d8>"
      ]
     },
     "execution_count": 22,
     "metadata": {},
     "output_type": "execute_result"
    }
   ],
   "source": [
    "# retrain on the training data only\n",
    "classifier.fit(X_train)"
   ]
  },
  {
   "cell_type": "code",
   "execution_count": 23,
   "metadata": {},
   "outputs": [
    {
     "data": {
      "text/plain": [
       "array([[[('RubyGems', 'NOUN'), 0.9846977182986814],\n",
       "        [('a', 'DET'), 0.8573424028641525],\n",
       "        [('crafted', 'VERB'), 0.8271826757837611]],\n",
       "\n",
       "       [[('ImageMagick', 'NOUN'), 0.4429434989650181],\n",
       "        [('ReadOneJNGImage', 'NOUN'), 0.28698101790223535],\n",
       "        [('in', 'ADP'), 0.004394492887864462]],\n",
       "\n",
       "       [[('Kanboard', 'NOUN'), 0.999999854524354],\n",
       "        [('In', 'ADP'), 0.2946550964779827],\n",
       "        [('before', 'ADP'), 0.012014610236885015]],\n",
       "\n",
       "       [[('ImageMagick', 'NOUN'), 0.706884492899105],\n",
       "        [('The', 'DET'), 0.4348035978245417],\n",
       "        [('function', 'NOUN'), 0.190282865936357]],\n",
       "\n",
       "       [[('Linux', 'NOUN'), 0.8592898685105529],\n",
       "        [('of', 'ADP'), 0.6263347642777072],\n",
       "        [('The', 'DET'), 0.20409550620737257]]], dtype=object)"
      ]
     },
     "execution_count": 23,
     "metadata": {},
     "output_type": "execute_result"
    }
   ],
   "source": [
    "classifier.fit_predict(X_test[:5], sample=True)"
   ]
  },
  {
   "cell_type": "code",
   "execution_count": 24,
   "metadata": {},
   "outputs": [
    {
     "name": "stdout",
     "output_type": "stream",
     "text": [
      "Evaluation accuracy: 86.953 %\n"
     ]
    }
   ],
   "source": [
    "# evaluate the classifier on the test set\n",
    "accuracy = classifier.evaluate(X_test, y_test, sample=True, n=3)\n",
    "\n",
    "print(\"Evaluation accuracy: {:5.3f} %\".format(accuracy * 100))"
   ]
  },
  {
   "cell_type": "code",
   "execution_count": 25,
   "metadata": {},
   "outputs": [],
   "source": [
    "# compute cross validation accuracy\n",
    "score = toolkit.transformers.cross_validate(classifier,\n",
    "                                             X_train,\n",
    "                                             y_train,\n",
    "                                             shuffle=True,\n",
    "                                             n=3,\n",
    "                                             sample=True)"
   ]
  },
  {
   "cell_type": "code",
   "execution_count": 26,
   "metadata": {},
   "outputs": [
    {
     "data": {
      "text/plain": [
       "Score(values=array([0.8       , 0.9       , 0.83333333, 0.73333333, 0.8       ,\n",
       "       0.83333333, 0.82758621, 0.89655172, 0.82758621, 0.96551724]), mean=0.8417241379310344, std=0.0612354636264718)"
      ]
     },
     "execution_count": 26,
     "metadata": {},
     "output_type": "execute_result"
    }
   ],
   "source": [
    "score"
   ]
  },
  {
   "cell_type": "code",
   "execution_count": 27,
   "metadata": {},
   "outputs": [
    {
     "name": "stdout",
     "output_type": "stream",
     "text": [
      "Cross validation accuracy: 84.17 (+/- 12.247) %\n"
     ]
    }
   ],
   "source": [
    "print(\"Cross validation accuracy: {:5.2f} (+/- {:5.3f}) %\".format(score.mean * 100, score.std * 200))"
   ]
  },
  {
   "cell_type": "markdown",
   "metadata": {},
   "source": [
    "## BONUS\n",
    "\n",
    "Cross validation accuracy visualization"
   ]
  },
  {
   "cell_type": "code",
   "execution_count": 28,
   "metadata": {},
   "outputs": [],
   "source": [
    "# visualization tools - NOTE: These do not come in the requirements! (Hence the BONUS)\n",
    "from plotly import graph_objs as go\n",
    "from plotly.offline import init_notebook_mode, iplot"
   ]
  },
  {
   "cell_type": "code",
   "execution_count": 29,
   "metadata": {},
   "outputs": [
    {
     "data": {
      "text/html": [
       "<script>requirejs.config({paths: { 'plotly': ['https://cdn.plot.ly/plotly-latest.min']},});if(!window.Plotly) {{require(['plotly'],function(plotly) {window.Plotly=plotly;});}}</script>"
      ],
      "text/vnd.plotly.v1+html": [
       "<script>requirejs.config({paths: { 'plotly': ['https://cdn.plot.ly/plotly-latest.min']},});if(!window.Plotly) {{require(['plotly'],function(plotly) {window.Plotly=plotly;});}}</script>"
      ]
     },
     "metadata": {},
     "output_type": "display_data"
    }
   ],
   "source": [
    "# initialize plotly\n",
    "init_notebook_mode(connected=True)"
   ]
  },
  {
   "cell_type": "code",
   "execution_count": 30,
   "metadata": {},
   "outputs": [],
   "source": [
    "# compute cross validation few more times to get more data\n",
    "# NOTE: this might take a while to compute\n",
    "x_val_scores = [\n",
    "    toolkit.transformers.cross_validate(classifier,\n",
    "                                             X_train,\n",
    "                                             y_train,\n",
    "                                             shuffle=True,\n",
    "                                             n=3,\n",
    "                                             sample=True)\n",
    "    for _ in range(10)\n",
    "]"
   ]
  },
  {
   "cell_type": "code",
   "execution_count": 31,
   "metadata": {},
   "outputs": [],
   "source": [
    "x_val_scores = np.vstack(x_val_scores)"
   ]
  },
  {
   "cell_type": "code",
   "execution_count": 32,
   "metadata": {},
   "outputs": [],
   "source": [
    "scores, mean, std = np.hstack(x_val_scores[:, 0]), x_val_scores[:, 1].mean() , x_val_scores[:, 2].std()\n",
    "\n",
    "# subtract from 1 to get distane from the middle\n",
    "scores = 1.0 - scores\n",
    "mean = 1.0 - mean\n",
    "\n",
    "# show 2x std, as this is stated above as well\n",
    "std *= 2\n",
    "\n",
    "rad = np.linspace(0, 360, num=(len(scores) + 1)) * (np.pi / 180.)\n",
    "rad = rad[:-1]\n",
    "\n",
    "x = np.cos(rad) * (scores)\n",
    "y = np.sin(rad) * (scores)\n",
    "    \n",
    "data_labels = [\"{:5.3f} %\".format((1 - score) * 100) for score in scores]\n",
    "score_trace = go.Scatter(x=x,\n",
    "                         y=y,\n",
    "                         mode='markers',\n",
    "                         hovertext=data_labels,\n",
    "                         hoverinfo='text')"
   ]
  },
  {
   "cell_type": "code",
   "execution_count": 33,
   "metadata": {},
   "outputs": [],
   "source": [
    "cross_validation_layout = {\n",
    "    'xaxis': {\n",
    "        'zeroline': False,\n",
    "    },\n",
    "    'yaxis': {\n",
    "        'zeroline': False,\n",
    "        'scaleanchor': 'x',\n",
    "        'scaleratio': 1\n",
    "    },\n",
    "    'shapes': [\n",
    "        {\n",
    "            'type': 'circle',\n",
    "            'xref': 'x',\n",
    "            'yref': 'y',\n",
    "            'x0': -mean,\n",
    "            'y0': -mean,\n",
    "            'x1': mean,\n",
    "            'y1': mean,\n",
    "            'opacity': 0.1,\n",
    "            'fillcolor': 'red',\n",
    "            'line': {\n",
    "                'color': 'red',\n",
    "            }\n",
    "        },\n",
    "        {\n",
    "            'type': 'circle',\n",
    "            'xref': 'x',\n",
    "            'yref': 'y',\n",
    "            'x0': -mean - std,\n",
    "            'y0': -mean - std,\n",
    "            'x1': mean + std,\n",
    "            'y1': mean + std,\n",
    "            'opacity': 0.8,\n",
    "            'line': {\n",
    "                'color': 'orange',\n",
    "                'dash': 'dashdot',\n",
    "            }\n",
    "        },\n",
    "        {\n",
    "            'type': 'circle',\n",
    "            'xref': 'x',\n",
    "            'yref': 'y',\n",
    "            'x0': -mean + std,\n",
    "            'y0': -mean + std,\n",
    "            'x1': mean - std,\n",
    "            'y1': mean - std,\n",
    "            'opacity': 0.8,\n",
    "            'line': {\n",
    "                'color': 'orange',\n",
    "                'dash': 'dashdot',\n",
    "            }\n",
    "        },\n",
    "        {\n",
    "            'type': 'circle',\n",
    "            'xref': 'x',\n",
    "            'yref': 'y',\n",
    "            'x0': -0.001,\n",
    "            'y0': -0.001,\n",
    "            'x1': 0.001,\n",
    "            'y1': 0.001,\n",
    "            'opacity': 0.8,\n",
    "            'fillcolor': 'red',\n",
    "            'line': {\n",
    "                'color': 'red',\n",
    "            }\n",
    "        }\n",
    "    ]\n",
    "}"
   ]
  },
  {
   "cell_type": "code",
   "execution_count": 34,
   "metadata": {},
   "outputs": [
    {
     "data": {
      "application/vnd.plotly.v1+json": {
       "data": [
        {
         "hoverinfo": "text",
         "hovertext": [
          "90.000 %",
          "86.667 %",
          "83.333 %",
          "83.333 %",
          "93.333 %",
          "73.333 %",
          "72.414 %",
          "89.655 %",
          "86.207 %",
          "86.207 %",
          "90.000 %",
          "83.333 %",
          "90.000 %",
          "80.000 %",
          "83.333 %",
          "83.333 %",
          "86.207 %",
          "89.655 %",
          "89.655 %",
          "79.310 %",
          "83.333 %",
          "80.000 %",
          "90.000 %",
          "90.000 %",
          "93.333 %",
          "83.333 %",
          "72.414 %",
          "96.552 %",
          "89.655 %",
          "79.310 %",
          "76.667 %",
          "96.667 %",
          "70.000 %",
          "83.333 %",
          "90.000 %",
          "80.000 %",
          "79.310 %",
          "93.103 %",
          "89.655 %",
          "93.103 %",
          "83.333 %",
          "90.000 %",
          "70.000 %",
          "83.333 %",
          "80.000 %",
          "93.333 %",
          "82.759 %",
          "93.103 %",
          "75.862 %",
          "82.759 %",
          "76.667 %",
          "86.667 %",
          "93.333 %",
          "83.333 %",
          "86.667 %",
          "76.667 %",
          "82.759 %",
          "82.759 %",
          "75.862 %",
          "96.552 %",
          "93.333 %",
          "90.000 %",
          "73.333 %",
          "93.333 %",
          "83.333 %",
          "90.000 %",
          "93.103 %",
          "86.207 %",
          "82.759 %",
          "79.310 %",
          "83.333 %",
          "90.000 %",
          "86.667 %",
          "83.333 %",
          "80.000 %",
          "90.000 %",
          "100.000 %",
          "75.862 %",
          "79.310 %",
          "86.207 %",
          "80.000 %",
          "100.000 %",
          "86.667 %",
          "90.000 %",
          "80.000 %",
          "83.333 %",
          "96.552 %",
          "89.655 %",
          "79.310 %",
          "75.862 %",
          "90.000 %",
          "80.000 %",
          "76.667 %",
          "83.333 %",
          "96.667 %",
          "83.333 %",
          "82.759 %",
          "93.103 %",
          "86.207 %",
          "89.655 %"
         ],
         "mode": "markers",
         "type": "scatter",
         "x": [
          0.09999999999999998,
          0.13307023045710284,
          0.1653524502190796,
          0.16371454178811476,
          0.06457221074190872,
          0.253615071012041,
          0.25649006507262107,
          0.09360279853096753,
          0.12086988690260192,
          0.11645902420717454,
          0.08090169943749473,
          0.12841887379596484,
          0.07289686274214113,
          0.1369094211857377,
          0.1062373316247816,
          0.09796420871541217,
          0.07390714413503403,
          0.049836586976039494,
          0.04404613361017992,
          0.07616370055545058,
          0.051502832395824566,
          0.04973797743297094,
          0.01873813145857245,
          0.012533323356430422,
          0.0041860346352875525,
          1.0205389992894608e-17,
          -0.01732152262877611,
          -0.004321835640148422,
          -0.019384273922661163,
          -0.05145308010307341,
          -0.07210396535415436,
          -0.012270818422822596,
          -0.12773378746952183,
          -0.08029227901695249,
          -0.053582679497899674,
          -0.11755705045849459,
          -0.13188082546524613,
          -0.04721014523646131,
          -0.07541054766428396,
          -0.053138844329364804,
          -0.13483616572915785,
          -0.08443279255020149,
          -0.2628920040131591,
          -0.15080450874433657,
          -0.18595529717765025,
          -0.06340376775301022,
          -0.16699709674631572,
          -0.0677439483261165,
          -0.23947596238625332,
          -0.17207357386694339,
          -0.23333333333333328,
          -0.13307023045710284,
          -0.06614098008763185,
          -0.16371454178811473,
          -0.12914442148381744,
          -0.2219131871355358,
          -0.16030629067038818,
          -0.15600466421827922,
          -0.21152230207955328,
          -0.029114756051793585,
          -0.05393446629166316,
          -0.07705132427757891,
          -0.1943916339790431,
          -0.04563647372857923,
          -0.10623733162478156,
          -0.058778525229247314,
          -0.03695357206751706,
          -0.06644878263471937,
          -0.07341022268363313,
          -0.07616370055545058,
          -0.05150283239582458,
          -0.024868988716485525,
          -0.024984175278096613,
          -0.020888872260717284,
          -0.01255810390586264,
          -1.836970198721029e-17,
          0,
          0.030252849481038957,
          0.03876854784532244,
          0.03430205340204897,
          0.06180339887498943,
          0,
          0.05677057220867633,
          0.04817536741017156,
          0.10716535899579933,
          0.09796420871541213,
          0.021980137577541005,
          0.07081521785469191,
          0.15082109532856797,
          0.18598595515277677,
          0.08090169943749471,
          0.16886558510040303,
          0.20447155867690145,
          0.15080450874433657,
          0.030992549529608376,
          0.15850941938252555,
          0.16699709674631574,
          0.0677439483261165,
          0.13684340707785908,
          0.10324414432016601
         ],
         "y": [
          0,
          0.008372069270575115,
          0.02088887226071737,
          0.031230219097620766,
          0.016579325810990315,
          0.08240453183331932,
          0.10155160074060082,
          0.04404613361017992,
          0.06644878263471939,
          0.07390714413503405,
          0.0587785252292473,
          0.1062373316247816,
          0.06845471059286885,
          0.14579372548428227,
          0.12841887379596484,
          0.13483616572915788,
          0.11645902420717454,
          0.0906524151769514,
          0.09360279853096753,
          0.1923675488044658,
          0.15850941938252555,
          0.19371663222572616,
          0.09822872507286885,
          0.09921147013144777,
          0.06653511522855142,
          0.16666666666666663,
          0.2753177181871094,
          0.03421085176946471,
          0.10161592248917468,
          0.20039651609557882,
          0.2219131871355358,
          0.030992549529608372,
          0.2714481157398059,
          0.1460511133406439,
          0.08443279255020147,
          0.16180339887498946,
          0.1594165329880943,
          0.05027369844285598,
          0.0708152178546919,
          0.04396027515508205,
          0.09796420871541218,
          0.05358267949789965,
          0.1445261022305146,
          0.0709632152608454,
          0.07362491053693554,
          0.02060113295832983,
          0.04287756675256118,
          0.012922849281774113,
          0.030252849481038922,
          0.010825951642985025,
          2.85750919801049e-17,
          -0.00837206927057511,
          -0.00835554890428695,
          -0.031230219097620786,
          -0.03315865162198066,
          -0.07210396535415435,
          -0.06346975046287551,
          -0.07341022268363322,
          -0.1162853696107589,
          -0.018476786033758488,
          -0.03918568348616486,
          -0.06374239897486896,
          -0.18254589491431703,
          -0.04859790849476076,
          -0.12841887379596487,
          -0.08090169943749471,
          -0.058229512103587254,
          -0.12086988690260192,
          -0.1560046642182793,
          -0.1923675488044658,
          -0.15850941938252555,
          -0.09685831611286308,
          -0.1309716334304918,
          -0.1653524502190796,
          -0.19960534568565427,
          -0.09999999999999998,
          0,
          -0.23947596238625332,
          -0.20323184497834934,
          -0.1335976773970526,
          -0.19021130325903068,
          0,
          -0.12064360699546925,
          -0.08763066800438632,
          -0.16886558510040295,
          -0.1348361657291579,
          -0.026569422164682346,
          -0.07541054766428394,
          -0.14163043570938377,
          -0.15386096304278718,
          -0.05877852522924732,
          -0.10716535899579924,
          -0.11240919062373356,
          -0.07096321526084536,
          -0.012270818422822592,
          -0.051502832395824594,
          -0.04287756675256112,
          -0.012922849281774122,
          -0.01728734256059363,
          -0.006495570985791026
         ]
        }
       ],
       "layout": {
        "shapes": [
         {
          "fillcolor": "red",
          "line": {
           "color": "red"
          },
          "opacity": 0.1,
          "type": "circle",
          "x0": -0.1472643678160921,
          "x1": 0.1472643678160921,
          "xref": "x",
          "y0": -0.1472643678160921,
          "y1": 0.1472643678160921,
          "yref": "y"
         },
         {
          "line": {
           "color": "orange",
           "dash": "dashdot"
          },
          "opacity": 0.8,
          "type": "circle",
          "x0": -0.16832021517377516,
          "x1": 0.16832021517377516,
          "xref": "x",
          "y0": -0.16832021517377516,
          "y1": 0.16832021517377516,
          "yref": "y"
         },
         {
          "line": {
           "color": "orange",
           "dash": "dashdot"
          },
          "opacity": 0.8,
          "type": "circle",
          "x0": -0.12620852045840902,
          "x1": 0.12620852045840902,
          "xref": "x",
          "y0": -0.12620852045840902,
          "y1": 0.12620852045840902,
          "yref": "y"
         },
         {
          "fillcolor": "red",
          "line": {
           "color": "red"
          },
          "opacity": 0.8,
          "type": "circle",
          "x0": -0.001,
          "x1": 0.001,
          "xref": "x",
          "y0": -0.001,
          "y1": 0.001,
          "yref": "y"
         }
        ],
        "xaxis": {
         "zeroline": false
        },
        "yaxis": {
         "scaleanchor": "x",
         "scaleratio": 1,
         "zeroline": false
        }
       }
      },
      "text/html": [
       "<div id=\"c75b7759-2cd8-4d8b-a1e8-2b4b28a027d4\" style=\"height: 525px; width: 100%;\" class=\"plotly-graph-div\"></div><script type=\"text/javascript\">require([\"plotly\"], function(Plotly) { window.PLOTLYENV=window.PLOTLYENV || {};window.PLOTLYENV.BASE_URL=\"https://plot.ly\";Plotly.newPlot(\"c75b7759-2cd8-4d8b-a1e8-2b4b28a027d4\", [{\"type\": \"scatter\", \"x\": [0.09999999999999998, 0.13307023045710284, 0.1653524502190796, 0.16371454178811476, 0.06457221074190872, 0.253615071012041, 0.25649006507262107, 0.09360279853096753, 0.12086988690260192, 0.11645902420717454, 0.08090169943749473, 0.12841887379596484, 0.07289686274214113, 0.1369094211857377, 0.1062373316247816, 0.09796420871541217, 0.07390714413503403, 0.049836586976039494, 0.04404613361017992, 0.07616370055545058, 0.051502832395824566, 0.04973797743297094, 0.01873813145857245, 0.012533323356430422, 0.0041860346352875525, 1.0205389992894608e-17, -0.01732152262877611, -0.004321835640148422, -0.019384273922661163, -0.05145308010307341, -0.07210396535415436, -0.012270818422822596, -0.12773378746952183, -0.08029227901695249, -0.053582679497899674, -0.11755705045849459, -0.13188082546524613, -0.04721014523646131, -0.07541054766428396, -0.053138844329364804, -0.13483616572915785, -0.08443279255020149, -0.2628920040131591, -0.15080450874433657, -0.18595529717765025, -0.06340376775301022, -0.16699709674631572, -0.0677439483261165, -0.23947596238625332, -0.17207357386694339, -0.23333333333333328, -0.13307023045710284, -0.06614098008763185, -0.16371454178811473, -0.12914442148381744, -0.2219131871355358, -0.16030629067038818, -0.15600466421827922, -0.21152230207955328, -0.029114756051793585, -0.05393446629166316, -0.07705132427757891, -0.1943916339790431, -0.04563647372857923, -0.10623733162478156, -0.058778525229247314, -0.03695357206751706, -0.06644878263471937, -0.07341022268363313, -0.07616370055545058, -0.05150283239582458, -0.024868988716485525, -0.024984175278096613, -0.020888872260717284, -0.01255810390586264, -1.836970198721029e-17, 0.0, 0.030252849481038957, 0.03876854784532244, 0.03430205340204897, 0.06180339887498943, 0.0, 0.05677057220867633, 0.04817536741017156, 0.10716535899579933, 0.09796420871541213, 0.021980137577541005, 0.07081521785469191, 0.15082109532856797, 0.18598595515277677, 0.08090169943749471, 0.16886558510040303, 0.20447155867690145, 0.15080450874433657, 0.030992549529608376, 0.15850941938252555, 0.16699709674631574, 0.0677439483261165, 0.13684340707785908, 0.10324414432016601], \"y\": [0.0, 0.008372069270575115, 0.02088887226071737, 0.031230219097620766, 0.016579325810990315, 0.08240453183331932, 0.10155160074060082, 0.04404613361017992, 0.06644878263471939, 0.07390714413503405, 0.0587785252292473, 0.1062373316247816, 0.06845471059286885, 0.14579372548428227, 0.12841887379596484, 0.13483616572915788, 0.11645902420717454, 0.0906524151769514, 0.09360279853096753, 0.1923675488044658, 0.15850941938252555, 0.19371663222572616, 0.09822872507286885, 0.09921147013144777, 0.06653511522855142, 0.16666666666666663, 0.2753177181871094, 0.03421085176946471, 0.10161592248917468, 0.20039651609557882, 0.2219131871355358, 0.030992549529608372, 0.2714481157398059, 0.1460511133406439, 0.08443279255020147, 0.16180339887498946, 0.1594165329880943, 0.05027369844285598, 0.0708152178546919, 0.04396027515508205, 0.09796420871541218, 0.05358267949789965, 0.1445261022305146, 0.0709632152608454, 0.07362491053693554, 0.02060113295832983, 0.04287756675256118, 0.012922849281774113, 0.030252849481038922, 0.010825951642985025, 2.85750919801049e-17, -0.00837206927057511, -0.00835554890428695, -0.031230219097620786, -0.03315865162198066, -0.07210396535415435, -0.06346975046287551, -0.07341022268363322, -0.1162853696107589, -0.018476786033758488, -0.03918568348616486, -0.06374239897486896, -0.18254589491431703, -0.04859790849476076, -0.12841887379596487, -0.08090169943749471, -0.058229512103587254, -0.12086988690260192, -0.1560046642182793, -0.1923675488044658, -0.15850941938252555, -0.09685831611286308, -0.1309716334304918, -0.1653524502190796, -0.19960534568565427, -0.09999999999999998, -0.0, -0.23947596238625332, -0.20323184497834934, -0.1335976773970526, -0.19021130325903068, -0.0, -0.12064360699546925, -0.08763066800438632, -0.16886558510040295, -0.1348361657291579, -0.026569422164682346, -0.07541054766428394, -0.14163043570938377, -0.15386096304278718, -0.05877852522924732, -0.10716535899579924, -0.11240919062373356, -0.07096321526084536, -0.012270818422822592, -0.051502832395824594, -0.04287756675256112, -0.012922849281774122, -0.01728734256059363, -0.006495570985791026], \"mode\": \"markers\", \"hovertext\": [\"90.000 %\", \"86.667 %\", \"83.333 %\", \"83.333 %\", \"93.333 %\", \"73.333 %\", \"72.414 %\", \"89.655 %\", \"86.207 %\", \"86.207 %\", \"90.000 %\", \"83.333 %\", \"90.000 %\", \"80.000 %\", \"83.333 %\", \"83.333 %\", \"86.207 %\", \"89.655 %\", \"89.655 %\", \"79.310 %\", \"83.333 %\", \"80.000 %\", \"90.000 %\", \"90.000 %\", \"93.333 %\", \"83.333 %\", \"72.414 %\", \"96.552 %\", \"89.655 %\", \"79.310 %\", \"76.667 %\", \"96.667 %\", \"70.000 %\", \"83.333 %\", \"90.000 %\", \"80.000 %\", \"79.310 %\", \"93.103 %\", \"89.655 %\", \"93.103 %\", \"83.333 %\", \"90.000 %\", \"70.000 %\", \"83.333 %\", \"80.000 %\", \"93.333 %\", \"82.759 %\", \"93.103 %\", \"75.862 %\", \"82.759 %\", \"76.667 %\", \"86.667 %\", \"93.333 %\", \"83.333 %\", \"86.667 %\", \"76.667 %\", \"82.759 %\", \"82.759 %\", \"75.862 %\", \"96.552 %\", \"93.333 %\", \"90.000 %\", \"73.333 %\", \"93.333 %\", \"83.333 %\", \"90.000 %\", \"93.103 %\", \"86.207 %\", \"82.759 %\", \"79.310 %\", \"83.333 %\", \"90.000 %\", \"86.667 %\", \"83.333 %\", \"80.000 %\", \"90.000 %\", \"100.000 %\", \"75.862 %\", \"79.310 %\", \"86.207 %\", \"80.000 %\", \"100.000 %\", \"86.667 %\", \"90.000 %\", \"80.000 %\", \"83.333 %\", \"96.552 %\", \"89.655 %\", \"79.310 %\", \"75.862 %\", \"90.000 %\", \"80.000 %\", \"76.667 %\", \"83.333 %\", \"96.667 %\", \"83.333 %\", \"82.759 %\", \"93.103 %\", \"86.207 %\", \"89.655 %\"], \"hoverinfo\": \"text\"}], {\"xaxis\": {\"zeroline\": false}, \"yaxis\": {\"zeroline\": false, \"scaleanchor\": \"x\", \"scaleratio\": 1}, \"shapes\": [{\"type\": \"circle\", \"xref\": \"x\", \"yref\": \"y\", \"x0\": -0.1472643678160921, \"y0\": -0.1472643678160921, \"x1\": 0.1472643678160921, \"y1\": 0.1472643678160921, \"opacity\": 0.1, \"fillcolor\": \"red\", \"line\": {\"color\": \"red\"}}, {\"type\": \"circle\", \"xref\": \"x\", \"yref\": \"y\", \"x0\": -0.16832021517377516, \"y0\": -0.16832021517377516, \"x1\": 0.16832021517377516, \"y1\": 0.16832021517377516, \"opacity\": 0.8, \"line\": {\"color\": \"orange\", \"dash\": \"dashdot\"}}, {\"type\": \"circle\", \"xref\": \"x\", \"yref\": \"y\", \"x0\": -0.12620852045840902, \"y0\": -0.12620852045840902, \"x1\": 0.12620852045840902, \"y1\": 0.12620852045840902, \"opacity\": 0.8, \"line\": {\"color\": \"orange\", \"dash\": \"dashdot\"}}, {\"type\": \"circle\", \"xref\": \"x\", \"yref\": \"y\", \"x0\": -0.001, \"y0\": -0.001, \"x1\": 0.001, \"y1\": 0.001, \"opacity\": 0.8, \"fillcolor\": \"red\", \"line\": {\"color\": \"red\"}}]}, {\"showLink\": false, \"linkText\": \"Export to plot.ly\"})});</script>"
      ],
      "text/vnd.plotly.v1+html": [
       "<div id=\"c75b7759-2cd8-4d8b-a1e8-2b4b28a027d4\" style=\"height: 525px; width: 100%;\" class=\"plotly-graph-div\"></div><script type=\"text/javascript\">require([\"plotly\"], function(Plotly) { window.PLOTLYENV=window.PLOTLYENV || {};window.PLOTLYENV.BASE_URL=\"https://plot.ly\";Plotly.newPlot(\"c75b7759-2cd8-4d8b-a1e8-2b4b28a027d4\", [{\"type\": \"scatter\", \"x\": [0.09999999999999998, 0.13307023045710284, 0.1653524502190796, 0.16371454178811476, 0.06457221074190872, 0.253615071012041, 0.25649006507262107, 0.09360279853096753, 0.12086988690260192, 0.11645902420717454, 0.08090169943749473, 0.12841887379596484, 0.07289686274214113, 0.1369094211857377, 0.1062373316247816, 0.09796420871541217, 0.07390714413503403, 0.049836586976039494, 0.04404613361017992, 0.07616370055545058, 0.051502832395824566, 0.04973797743297094, 0.01873813145857245, 0.012533323356430422, 0.0041860346352875525, 1.0205389992894608e-17, -0.01732152262877611, -0.004321835640148422, -0.019384273922661163, -0.05145308010307341, -0.07210396535415436, -0.012270818422822596, -0.12773378746952183, -0.08029227901695249, -0.053582679497899674, -0.11755705045849459, -0.13188082546524613, -0.04721014523646131, -0.07541054766428396, -0.053138844329364804, -0.13483616572915785, -0.08443279255020149, -0.2628920040131591, -0.15080450874433657, -0.18595529717765025, -0.06340376775301022, -0.16699709674631572, -0.0677439483261165, -0.23947596238625332, -0.17207357386694339, -0.23333333333333328, -0.13307023045710284, -0.06614098008763185, -0.16371454178811473, -0.12914442148381744, -0.2219131871355358, -0.16030629067038818, -0.15600466421827922, -0.21152230207955328, -0.029114756051793585, -0.05393446629166316, -0.07705132427757891, -0.1943916339790431, -0.04563647372857923, -0.10623733162478156, -0.058778525229247314, -0.03695357206751706, -0.06644878263471937, -0.07341022268363313, -0.07616370055545058, -0.05150283239582458, -0.024868988716485525, -0.024984175278096613, -0.020888872260717284, -0.01255810390586264, -1.836970198721029e-17, 0.0, 0.030252849481038957, 0.03876854784532244, 0.03430205340204897, 0.06180339887498943, 0.0, 0.05677057220867633, 0.04817536741017156, 0.10716535899579933, 0.09796420871541213, 0.021980137577541005, 0.07081521785469191, 0.15082109532856797, 0.18598595515277677, 0.08090169943749471, 0.16886558510040303, 0.20447155867690145, 0.15080450874433657, 0.030992549529608376, 0.15850941938252555, 0.16699709674631574, 0.0677439483261165, 0.13684340707785908, 0.10324414432016601], \"y\": [0.0, 0.008372069270575115, 0.02088887226071737, 0.031230219097620766, 0.016579325810990315, 0.08240453183331932, 0.10155160074060082, 0.04404613361017992, 0.06644878263471939, 0.07390714413503405, 0.0587785252292473, 0.1062373316247816, 0.06845471059286885, 0.14579372548428227, 0.12841887379596484, 0.13483616572915788, 0.11645902420717454, 0.0906524151769514, 0.09360279853096753, 0.1923675488044658, 0.15850941938252555, 0.19371663222572616, 0.09822872507286885, 0.09921147013144777, 0.06653511522855142, 0.16666666666666663, 0.2753177181871094, 0.03421085176946471, 0.10161592248917468, 0.20039651609557882, 0.2219131871355358, 0.030992549529608372, 0.2714481157398059, 0.1460511133406439, 0.08443279255020147, 0.16180339887498946, 0.1594165329880943, 0.05027369844285598, 0.0708152178546919, 0.04396027515508205, 0.09796420871541218, 0.05358267949789965, 0.1445261022305146, 0.0709632152608454, 0.07362491053693554, 0.02060113295832983, 0.04287756675256118, 0.012922849281774113, 0.030252849481038922, 0.010825951642985025, 2.85750919801049e-17, -0.00837206927057511, -0.00835554890428695, -0.031230219097620786, -0.03315865162198066, -0.07210396535415435, -0.06346975046287551, -0.07341022268363322, -0.1162853696107589, -0.018476786033758488, -0.03918568348616486, -0.06374239897486896, -0.18254589491431703, -0.04859790849476076, -0.12841887379596487, -0.08090169943749471, -0.058229512103587254, -0.12086988690260192, -0.1560046642182793, -0.1923675488044658, -0.15850941938252555, -0.09685831611286308, -0.1309716334304918, -0.1653524502190796, -0.19960534568565427, -0.09999999999999998, -0.0, -0.23947596238625332, -0.20323184497834934, -0.1335976773970526, -0.19021130325903068, -0.0, -0.12064360699546925, -0.08763066800438632, -0.16886558510040295, -0.1348361657291579, -0.026569422164682346, -0.07541054766428394, -0.14163043570938377, -0.15386096304278718, -0.05877852522924732, -0.10716535899579924, -0.11240919062373356, -0.07096321526084536, -0.012270818422822592, -0.051502832395824594, -0.04287756675256112, -0.012922849281774122, -0.01728734256059363, -0.006495570985791026], \"mode\": \"markers\", \"hovertext\": [\"90.000 %\", \"86.667 %\", \"83.333 %\", \"83.333 %\", \"93.333 %\", \"73.333 %\", \"72.414 %\", \"89.655 %\", \"86.207 %\", \"86.207 %\", \"90.000 %\", \"83.333 %\", \"90.000 %\", \"80.000 %\", \"83.333 %\", \"83.333 %\", \"86.207 %\", \"89.655 %\", \"89.655 %\", \"79.310 %\", \"83.333 %\", \"80.000 %\", \"90.000 %\", \"90.000 %\", \"93.333 %\", \"83.333 %\", \"72.414 %\", \"96.552 %\", \"89.655 %\", \"79.310 %\", \"76.667 %\", \"96.667 %\", \"70.000 %\", \"83.333 %\", \"90.000 %\", \"80.000 %\", \"79.310 %\", \"93.103 %\", \"89.655 %\", \"93.103 %\", \"83.333 %\", \"90.000 %\", \"70.000 %\", \"83.333 %\", \"80.000 %\", \"93.333 %\", \"82.759 %\", \"93.103 %\", \"75.862 %\", \"82.759 %\", \"76.667 %\", \"86.667 %\", \"93.333 %\", \"83.333 %\", \"86.667 %\", \"76.667 %\", \"82.759 %\", \"82.759 %\", \"75.862 %\", \"96.552 %\", \"93.333 %\", \"90.000 %\", \"73.333 %\", \"93.333 %\", \"83.333 %\", \"90.000 %\", \"93.103 %\", \"86.207 %\", \"82.759 %\", \"79.310 %\", \"83.333 %\", \"90.000 %\", \"86.667 %\", \"83.333 %\", \"80.000 %\", \"90.000 %\", \"100.000 %\", \"75.862 %\", \"79.310 %\", \"86.207 %\", \"80.000 %\", \"100.000 %\", \"86.667 %\", \"90.000 %\", \"80.000 %\", \"83.333 %\", \"96.552 %\", \"89.655 %\", \"79.310 %\", \"75.862 %\", \"90.000 %\", \"80.000 %\", \"76.667 %\", \"83.333 %\", \"96.667 %\", \"83.333 %\", \"82.759 %\", \"93.103 %\", \"86.207 %\", \"89.655 %\"], \"hoverinfo\": \"text\"}], {\"xaxis\": {\"zeroline\": false}, \"yaxis\": {\"zeroline\": false, \"scaleanchor\": \"x\", \"scaleratio\": 1}, \"shapes\": [{\"type\": \"circle\", \"xref\": \"x\", \"yref\": \"y\", \"x0\": -0.1472643678160921, \"y0\": -0.1472643678160921, \"x1\": 0.1472643678160921, \"y1\": 0.1472643678160921, \"opacity\": 0.1, \"fillcolor\": \"red\", \"line\": {\"color\": \"red\"}}, {\"type\": \"circle\", \"xref\": \"x\", \"yref\": \"y\", \"x0\": -0.16832021517377516, \"y0\": -0.16832021517377516, \"x1\": 0.16832021517377516, \"y1\": 0.16832021517377516, \"opacity\": 0.8, \"line\": {\"color\": \"orange\", \"dash\": \"dashdot\"}}, {\"type\": \"circle\", \"xref\": \"x\", \"yref\": \"y\", \"x0\": -0.12620852045840902, \"y0\": -0.12620852045840902, \"x1\": 0.12620852045840902, \"y1\": 0.12620852045840902, \"opacity\": 0.8, \"line\": {\"color\": \"orange\", \"dash\": \"dashdot\"}}, {\"type\": \"circle\", \"xref\": \"x\", \"yref\": \"y\", \"x0\": -0.001, \"y0\": -0.001, \"x1\": 0.001, \"y1\": 0.001, \"opacity\": 0.8, \"fillcolor\": \"red\", \"line\": {\"color\": \"red\"}}]}, {\"showLink\": false, \"linkText\": \"Export to plot.ly\"})});</script>"
      ]
     },
     "metadata": {},
     "output_type": "display_data"
    }
   ],
   "source": [
    "# visualize cross validation accuracy\n",
    "fig = {\n",
    "    'data': [score_trace],\n",
    "    'layout': cross_validation_layout\n",
    "}\n",
    "\n",
    "iplot(fig, show_link=False)"
   ]
  }
 ],
 "metadata": {
  "kernelspec": {
   "display_name": "env",
   "language": "python",
   "name": "env"
  },
  "language_info": {
   "codemirror_mode": {
    "name": "ipython",
    "version": 3
   },
   "file_extension": ".py",
   "mimetype": "text/x-python",
   "name": "python",
   "nbconvert_exporter": "python",
   "pygments_lexer": "ipython3",
   "version": "3.6.5"
  }
 },
 "nbformat": 4,
 "nbformat_minor": 2
}
