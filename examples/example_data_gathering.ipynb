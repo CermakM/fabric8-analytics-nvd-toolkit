{
 "cells": [
  {
   "cell_type": "code",
   "execution_count": 1,
   "metadata": {},
   "outputs": [],
   "source": [
    "import multiprocessing\n",
    "import os\n",
    "import sys\n",
    "import typing\n",
    "\n",
    "from nvdlib.nvd import NVD\n",
    "\n",
    "sys.path.append('../src')\n",
    "import toolkit"
   ]
  },
  {
   "cell_type": "code",
   "execution_count": 2,
   "metadata": {},
   "outputs": [],
   "source": [
    "import numpy as np\n",
    "import pandas as pd\n",
    "\n",
    "import seaborn as sns\n",
    "\n",
    "from sklearn.model_selection import train_test_split"
   ]
  },
  {
   "cell_type": "code",
   "execution_count": 3,
   "metadata": {},
   "outputs": [],
   "source": [
    "# NVDFeedPreprocessor to extract relevant attributes from NVD feed\n",
    "nvd_prep = toolkit.preprocessing.NVDFeedPreprocessor(\n",
    "    attributes=['cve_id', 'description']\n",
    ")"
   ]
  },
  {
   "cell_type": "code",
   "execution_count": 4,
   "metadata": {},
   "outputs": [],
   "source": [
    "# LabelPreprocessor to extract target labels \n",
    "label_hook = toolkit.transformers.Hook(\n",
    "    key='label_hook',\n",
    "    func=toolkit.utils.find_,\n",
    "    reuse=True\n",
    ")\n",
    "\n",
    "label_prep = toolkit.preprocessing.LabelPreprocessor(\n",
    "    hook=label_hook,\n",
    "    feed_attributes=['project', 'description'],\n",
    "    output_attributes=['cve_id', 'user', 'project', 'repository', 'description']\n",
    ")"
   ]
  },
  {
   "cell_type": "code",
   "execution_count": 5,
   "metadata": {},
   "outputs": [],
   "source": [
    "def get_labeled_data_from_nvd(feed_name: typing.Union[int, str]) -> list:\n",
    "    # nvd feed\n",
    "    feed = NVD.from_feeds(feed_names=[feed_name])\n",
    "    feed.update()\n",
    "    cves: typing.Generator = feed.cves()\n",
    "    \n",
    "    # transform the NVD data\n",
    "    nvd_data: list = nvd_prep.fit_transform(cves)\n",
    "    try:\n",
    "        # extract labels and add it to the total data\n",
    "        labeled_data = label_prep.fit_transform(nvd_data)\n",
    "    except AssertionError:\n",
    "        # When no labels are found, it will throw (can happen if there are no CVEs to label)\n",
    "        labeled_data = list()\n",
    "\n",
    "    print(f\"Finished feed '{feed_name}'.\")\n",
    "    return labeled_data"
   ]
  },
  {
   "cell_type": "code",
   "execution_count": 6,
   "metadata": {},
   "outputs": [
    {
     "name": "stdout",
     "output_type": "stream",
     "text": [
      "Finished feed '2002'.\n",
      "Finished feed '2003'.\n",
      "Finished feed '2004'.\n",
      "Finished feed '2005'.\n",
      "Finished feed '2006'.\n",
      "Finished feed '2007'.\n",
      "Finished feed '2008'.\n",
      "Finished feed '2009'.\n",
      "Finished feed '2010'.\n",
      "Finished feed '2011'.\n",
      "Finished feed '2012'.\n",
      "Finished feed '2013'.\n",
      "Finished feed '2014'.\n",
      "Finished feed '2015'.\n",
      "Finished feed '2016'.\n",
      "Finished feed '2017'.\n",
      "Finished feed '2018'.\n"
     ]
    }
   ],
   "source": [
    "FEED_NAMES = list(range(2002, 2019))\n",
    "data = list()\n",
    "\n",
    "if os.name != 'nt':  # multiprocessing does not work correctly in the interpreter on Windows\n",
    "    PROCESSES = os.cpu_count()\n",
    "    \n",
    "    pool = multiprocessing.Pool(processes=PROCESSES)\n",
    "    proc = pool.map_async(\n",
    "        func=get_labeled_data_from_nvd,\n",
    "        iterable=FEED_NAMES,\n",
    "        callback=data.extend\n",
    "    )\n",
    "\n",
    "    pool.close()\n",
    "    pool.join()\n",
    "    \n",
    "else:\n",
    "    for feed_name in FEED_NAMES:\n",
    "        data.extend(get_labeled_data_from_nvd(feed_name))"
   ]
  },
  {
   "cell_type": "code",
   "execution_count": 7,
   "metadata": {},
   "outputs": [],
   "source": [
    "# split into train/test data\n",
    "train_data, test_data = train_test_split(data, test_size=0.2, random_state=42)  # type: typing.List[\"Series\"]"
   ]
  },
  {
   "cell_type": "code",
   "execution_count": 8,
   "metadata": {},
   "outputs": [],
   "source": [
    "df = pd.DataFrame(data=data).sort_values(by='cve_id', ascending=True)  # ordered from oldest\n",
    "\n",
    "train_df = pd.DataFrame(data=train_data).sort_values(by='cve_id', ascending=True)  # ordered from oldest\n",
    "test_df = pd.DataFrame(data=test_data).sort_values(by='cve_id', ascending=True)  # ordered from oldest"
   ]
  },
  {
   "cell_type": "code",
   "execution_count": 9,
   "metadata": {},
   "outputs": [
    {
     "data": {
      "text/html": [
       "<div>\n",
       "<style scoped>\n",
       "    .dataframe tbody tr th:only-of-type {\n",
       "        vertical-align: middle;\n",
       "    }\n",
       "\n",
       "    .dataframe tbody tr th {\n",
       "        vertical-align: top;\n",
       "    }\n",
       "\n",
       "    .dataframe thead th {\n",
       "        text-align: right;\n",
       "    }\n",
       "</style>\n",
       "<table border=\"1\" class=\"dataframe\">\n",
       "  <thead>\n",
       "    <tr style=\"text-align: right;\">\n",
       "      <th></th>\n",
       "      <th>cve_id</th>\n",
       "      <th>user</th>\n",
       "      <th>project</th>\n",
       "      <th>repository</th>\n",
       "      <th>description</th>\n",
       "      <th>label</th>\n",
       "    </tr>\n",
       "  </thead>\n",
       "  <tbody>\n",
       "    <tr>\n",
       "      <th>count</th>\n",
       "      <td>4374</td>\n",
       "      <td>4374</td>\n",
       "      <td>4374</td>\n",
       "      <td>4374</td>\n",
       "      <td>4374</td>\n",
       "      <td>4374</td>\n",
       "    </tr>\n",
       "    <tr>\n",
       "      <th>unique</th>\n",
       "      <td>4374</td>\n",
       "      <td>1036</td>\n",
       "      <td>1113</td>\n",
       "      <td>1150</td>\n",
       "      <td>4345</td>\n",
       "      <td>1203</td>\n",
       "    </tr>\n",
       "    <tr>\n",
       "      <th>top</th>\n",
       "      <td>CVE-2012-3371</td>\n",
       "      <td>torvalds</td>\n",
       "      <td>linux</td>\n",
       "      <td>https://github.com/torvalds/linux</td>\n",
       "      <td>An issue was discovered in the Tatsuya Kinoshi...</td>\n",
       "      <td>Linux</td>\n",
       "    </tr>\n",
       "    <tr>\n",
       "      <th>freq</th>\n",
       "      <td>1</td>\n",
       "      <td>808</td>\n",
       "      <td>811</td>\n",
       "      <td>808</td>\n",
       "      <td>6</td>\n",
       "      <td>806</td>\n",
       "    </tr>\n",
       "  </tbody>\n",
       "</table>\n",
       "</div>"
      ],
      "text/plain": [
       "               cve_id      user project                         repository  \\\n",
       "count            4374      4374    4374                               4374   \n",
       "unique           4374      1036    1113                               1150   \n",
       "top     CVE-2012-3371  torvalds   linux  https://github.com/torvalds/linux   \n",
       "freq                1       808     811                                808   \n",
       "\n",
       "                                              description  label  \n",
       "count                                                4374   4374  \n",
       "unique                                               4345   1203  \n",
       "top     An issue was discovered in the Tatsuya Kinoshi...  Linux  \n",
       "freq                                                    6    806  "
      ]
     },
     "execution_count": 9,
     "metadata": {},
     "output_type": "execute_result"
    }
   ],
   "source": [
    "df.describe(include='all')"
   ]
  },
  {
   "cell_type": "code",
   "execution_count": 11,
   "metadata": {},
   "outputs": [],
   "source": [
    "# export\n",
    "os.makedirs('data', exist_ok=True)\n",
    "\n",
    "# whole dataset\n",
    "df.to_csv('data/data.csv')\n",
    "\n",
    "# train/test data\n",
    "train_df.to_csv('data/train_data.csv')\n",
    "test_df.to_csv('data/test_data.csv')"
   ]
  }
 ],
 "metadata": {
  "kernelspec": {
   "display_name": "env",
   "language": "python",
   "name": "env"
  },
  "language_info": {
   "codemirror_mode": {
    "name": "ipython",
    "version": 3
   },
   "file_extension": ".py",
   "mimetype": "text/x-python",
   "name": "python",
   "nbconvert_exporter": "python",
   "pygments_lexer": "ipython3",
   "version": "3.6.4"
  }
 },
 "nbformat": 4,
 "nbformat_minor": 2
}
